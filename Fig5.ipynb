{
 "cells": [
  {
   "cell_type": "markdown",
   "id": "37000cc1-5be5-44be-9ec8-2834a8249ba5",
   "metadata": {},
   "source": [
    "This script is used to produce Figure 5 (pan-Arctic PPP for 2010 and 2012) for the Payne et al. paper \"Quantifying the potential predictability of Arctic primary production\". In order to reproduce this figure, the script will need to be run both for 2010 and 2030 data."
   ]
  },
  {
   "cell_type": "markdown",
   "id": "a8933af6-49b2-4bdb-af31-42cf9cbb06a7",
   "metadata": {},
   "source": [
    "1. Import Packages"
   ]
  },
  {
   "cell_type": "code",
   "execution_count": 1,
   "id": "0b145091-14b6-4b9b-9311-0b29dc113b21",
   "metadata": {},
   "outputs": [],
   "source": [
    "import xarray as xr\n",
    "import numpy as np\n",
    "import glob\n",
    "import math\n",
    "import matplotlib.pyplot as plt\n",
    "from  matplotlib.cm import ScalarMappable\n",
    "from  matplotlib.colors import ListedColormap, BoundaryNorm\n",
    "from matplotlib import colors as c"
   ]
  },
  {
   "cell_type": "markdown",
   "id": "41ec5fc8-987b-4363-acee-814d09a4e3b9",
   "metadata": {},
   "source": [
    "2. Read in NPP files for diatom, diazotroph, and small phytoplankton functional types (photoC_diat_zint, photoC_diaz_zint, and photoC_sp_zint, respectively) from the CESM2-LE for years 2010-2015. NPP is calculated for each model grid cell and across all ensemble members for the years 2010-2012 (dat_climt). To switch between 2010 and 2030, change the variable 'yr', the files "
   ]
  },
  {
   "cell_type": "code",
   "execution_count": 2,
   "id": "85aa3063-cbc3-4fa5-96e8-498e1a451a06",
   "metadata": {},
   "outputs": [
    {
     "name": "stderr",
     "output_type": "stream",
     "text": [
      "/glade/u/apps/opt/conda/envs/npl-2023b/lib/python3.10/site-packages/numpy/lib/nanfunctions.py:1872: RuntimeWarning: Degrees of freedom <= 0 for slice.\n",
      "  var = nanvar(a, axis=axis, dtype=dtype, out=out, ddof=ddof,\n",
      "/glade/derecho/scratch/cpayne/tmp/ipykernel_50523/536134416.py:70: RuntimeWarning: Degrees of freedom <= 0 for slice.\n",
      "  clim_var[t,:,:] = np.nanvar(dat_climt[:,t,:,:], axis = 0)\n"
     ]
    }
   ],
   "source": [
    "# a. Set the variable (vnam) and whether or not it's an NPP variable (T/F).\n",
    "vnam = ['photoC_diat_zint','photoC_diaz_zint','photoC_sp_zint']#'SST'#'diat_light_lim_Cweight_avg_100m'#['photoC_diat_zint','photoC_diaz_zint','photoC_sp_zint']\n",
    "vdir = 'ocn'\n",
    "vfil = ['.pop.h.photoC_diat_zint.','.pop.h.photoC_diaz_zint.','.pop.h.photoC_sp_zint.']\n",
    "NPP = True#False\n",
    "yr = '2010' #### Change between 2010 and 2030\n",
    "if vnam[0] == 'photoC_diat_zint': # NPP has to be summed across phytoplankton functional types\n",
    "    vn = 3\n",
    "else:\n",
    "    vn = 1\n",
    "\n",
    "# b. Select variable of interest and locate the files\n",
    "dat_clim = np.full([50, 36, 384, 320], np.nan)\n",
    "for j in np.arange(0,vn):\n",
    "    if NPP == True:\n",
    "        fdir = '/glade/campaign/cgd/cesm/CESM2-LE/'+ vdir + '/proc/tseries/month_1/' + vnam[j] + '/'\n",
    "    else:\n",
    "        fdir = '/glade/campaign/cgd/cesm/CESM2-LE/'+ vdir + '/proc/tseries/month_1/' + vnam + '/'\n",
    "\n",
    "# c. Make an array of nans to store the values from all EMs\n",
    "    i = -1\n",
    "\n",
    "# d. Loop through all the files in the directory, storing data in dat_clim\n",
    "    for file in glob.glob(fdir + \"*smbb*201001*\"): #### Change between '*201001*' and '*203001*'\n",
    "        i = i + 1\n",
    "\n",
    "# e. Open the netcdf and store the variable of interest as dat. Also open lon and lat.\n",
    "        ncfile = xr.open_dataset(file) \n",
    "        if NPP == True:\n",
    "            dat = ncfile[vnam[j]].values\n",
    "        else:\n",
    "            dat = ncfile[vnam].values\n",
    "        lon, lat = ncfile.TLONG.values, ncfile.TLAT.values #if in 'ice', use 'TLON', in 'ocn', use 'TLONG'\n",
    "\n",
    "# f. Interpolate lat and lon values over holes in the arrays\n",
    "        ok = ~np.isnan(lon)\n",
    "        xp = ok.ravel().nonzero()[0]\n",
    "        fp = lon[~np.isnan(lon)]\n",
    "        x  = np.isnan(lon).ravel().nonzero()[0]\n",
    "        lon[np.isnan(lon)] = np.interp(x, xp, fp)\n",
    "\n",
    "        ok = ~np.isnan(lat)\n",
    "        xp = ok.ravel().nonzero()[0]\n",
    "        fp = lat[~np.isnan(lat)]\n",
    "        x  = np.isnan(lat).ravel().nonzero()[0]\n",
    "        lat[np.isnan(lat)] = np.interp(x, xp, fp)\n",
    "\n",
    "# g. Loop through the ensemble members, assigning each to its own column.\n",
    "        if j == 0:\n",
    "            for t in range(0,36): \n",
    "                dat_clim[i,t,:,:] = dat[t,:,:]\n",
    "                #### In 2010, this should read dat[t,:,:]. In 2030, it reads dat[t+60,:,:] to skip 2025-2029\n",
    "        else:\n",
    "            for t in range(0,36):\n",
    "                dat_clim[i,t,:,:] = dat[t,:,:] + dat_clim[i,t,:,:]\n",
    "                #### In 2010, this should read dat[t+60,:,:]. In 2030, it reads dat[t+60,:,:] to skip 2025-2029\n",
    "\n",
    "# h. Sum over EMs, then divide by 50 to get a climatology for each grid cell\n",
    "dat_climt = np.full([150, 12, 384, 320], np.nan)\n",
    "clim = np.full([12, 384, 320], np.nan)\n",
    "clim_sd = np.full([12, 384, 320], np.nan)\n",
    "clim_var = np.full([12, 384, 320], np.nan)\n",
    "   \n",
    "for t in range(0,12):\n",
    "    dat_climt[0:50,t,:,:] = dat_clim[:,t,:,:]\n",
    "    dat_climt[50:100,t,:,:] = dat_clim[:,t + 12,:,:]\n",
    "    dat_climt[100:150,t,:,:] = dat_clim[:,t + 24,:,:]\n",
    "    clim[t,:,:] = (np.nansum(dat_climt[:,t,:,:], axis = 0)) / 150\n",
    "    clim_sd[t,:,:] = np.nanstd(dat_climt[:,t,:,:], axis = 0)\n",
    "    clim_var[t,:,:] = np.nanvar(dat_climt[:,t,:,:], axis = 0)\n",
    "    \n",
    "    for i in np.arange(0,384):\n",
    "        for j in np.arange(0,320):\n",
    "            if clim_var[t,i,j] < .000001:\n",
    "                clim_var[t,i,j] = np.nan\n"
   ]
  },
  {
   "cell_type": "markdown",
   "id": "944ad8bb-d1ef-4902-a86b-816d2dda9927",
   "metadata": {},
   "source": [
    "3. Calculate the area of each grid cell in the Arctic (here, >50°N). This variable is used to scale NPP by area and also to exclude sub-Arctic grid cells."
   ]
  },
  {
   "cell_type": "code",
   "execution_count": 12,
   "id": "d1146c17-2f1b-42c5-ac0f-0207adaaf2df",
   "metadata": {},
   "outputs": [
    {
     "name": "stderr",
     "output_type": "stream",
     "text": [
      "/glade/u/apps/opt/conda/envs/npl-2023b/lib/python3.10/site-packages/xarray/conventions.py:431: SerializationWarning: variable 'areacello' has multiple fill values {1e+20, 1e+20}, decoding all values to NaN.\n",
      "  new_vars[k] = decode_cf_variable(\n"
     ]
    }
   ],
   "source": [
    "# a. Read in the areacello file and use this to weight each variable by the area of the grid cell.\n",
    "acdir = '/glade/collections/cmip/CMIP6/CMIP/NCAR/CESM2/historical/r1i1p1f1/Ofx/areacello/gn/files/d20190308/areacello_Ofx_CESM2_historical_r1i1p1f1_gn.nc'\n",
    "acfil = xr.open_dataset(acdir)\n",
    "areacello = acfil['areacello'].values # tarea <- ocean files\n",
    "areacello_ocn = np.full([384,320], np.nan)\n",
    "for i in np.arange(0,384):\n",
    "    for j in np.arange(0,320):\n",
    "        if np.isnan(dat_climt[0,5,i,j]) == False and lat[i,j] > 50:\n",
    "            areacello_ocn[i,j] = areacello[i,j]\n"
   ]
  },
  {
   "cell_type": "markdown",
   "id": "504b607d-3aa5-40b5-ae51-09e3fac4488b",
   "metadata": {},
   "source": [
    "4. Read in monthly NPP for the two-year perfect model experiments. These experiments were initialized every other month (6x per year) from five different CESM2-LE ensemble members and have 15 ensemble members in each set. Consequently, the dimensions of pmeall are initialization, initial ensemble member, ensemble member, time, longitude, latitude."
   ]
  },
  {
   "cell_type": "code",
   "execution_count": 13,
   "id": "ba040a39-adaa-40fc-9e4e-8d6334d02d75",
   "metadata": {},
   "outputs": [
    {
     "name": "stdout",
     "output_type": "stream",
     "text": [
      "01\n",
      "03\n",
      "05\n",
      "07\n",
      "09\n",
      "11\n"
     ]
    },
    {
     "name": "stderr",
     "output_type": "stream",
     "text": [
      "/glade/derecho/scratch/cpayne/tmp/ipykernel_50523/4159784450.py:45: RuntimeWarning: Mean of empty slice\n",
      "  pme_mean[:,:,:,:,:] = np.nanmean(pmeall[:,:,:,:,:,:], axis = 2)\n"
     ]
    }
   ],
   "source": [
    "# a. Initialize arrays\n",
    "pmeall = np.full([6,5,15,24,384,320], np.nan)\n",
    "pme_var = np.full([6,5,24,384,320], np.nan)\n",
    "pme_mean = np.full([6,5,24,384,320], np.nan)\n",
    "\n",
    "imstr = ('01', '03', '05', '07', '09', '11')\n",
    "\n",
    "# b. Set up big loop for opening arrays and calculating variance\n",
    "for imno in np.arange(0,6):\n",
    "    im = imstr[imno]\n",
    "    print(im)\n",
    "    stmon = yr + im ### To switch between 2010 and 2030, change the \n",
    "    for i in np.arange(0,6,1):\n",
    "        if im == imstr[0]:\n",
    "            enmon = '201112'  ### To switch between 2010 and 2030, change the enmon to '201112' or '203112'\n",
    "        elif im == imstr[i]:\n",
    "            enmon = '2012' + str(i*2).zfill(2) ### To switch between 2010 and 2030, change to '2012' or '2032'\n",
    "    i = -1\n",
    "    for init in np.arange(0,5):\n",
    "        if init == 0:\n",
    "            l = ''\n",
    "        else:\n",
    "            i = i + 1\n",
    "            let = ['b', 'c', 'd', 'e']\n",
    "            l = let[i]\n",
    "# c. Loop through the ensemble members. Open the appropriate file and add it to the array\n",
    "        for ens in np.arange(0,15):\n",
    "            i1 = ens + 1 \n",
    "            ### To switch between 2010 and 2030, change the first part of pmedir to either\n",
    "            #/glade/campaign/cgd/ppc/mholland/predict_cesm2/b.e21.BHIST_CESM2_2010_      or\n",
    "            #/glade/campaign/cgd/ppc/mholland/predict_cesm2_2030/b.e21.BSSP370smbb_CESM2_2030_\n",
    "            pmedir = '/glade/campaign/cgd/ppc/mholland/predict_cesm2/b.e21.BHIST_CESM2_2010_' + im + '_ens00'+ str(i1) + str(l) +'/' + vdir + '/proc/tseries/month_1/'\n",
    "            if NPP == True: # if NPP is the variable, loop through all phytoplankton groups and sum them\n",
    "                for varloop in np.arange(0,len(vnam)):\n",
    "                    pmef = pmedir + 'b.e21.BHIST_CESM2_2010_' + im + '_ens00' + str(i1) + str(l) + vfil[varloop] + stmon + '-' + enmon + '.nc'\n",
    "                    pme = xr.open_dataset(pmef)\n",
    "                    if varloop == 0:\n",
    "                        pmeall[imno,init,ens,:,:,:] = pme[vnam[varloop]][:,:,:]\n",
    "                    else:\n",
    "                        pmeall[imno,init,ens,:,:,:] = pmeall[imno,init,ens,:,:,:] + pme[vnam[varloop]][:,:,:]\n",
    "                    vname = 'photoC_sp_zint'\n",
    "\n",
    "# d. Calculate variability across the perfect model ensemble members\n",
    "pme_var[:,:,:,:,:] = np.var(pmeall[:,:,:,:,:,:], axis = 2)\n",
    "pme_mean[:,:,:,:,:] = np.nanmean(pmeall[:,:,:,:,:,:], axis = 2)\n"
   ]
  },
  {
   "cell_type": "markdown",
   "id": "3a3a8f5c-0196-4dfe-b297-f38e49fd5cee",
   "metadata": {},
   "source": [
    "5. Calculate PPP across the Arctic for the two years of each initialization. PPP is calculated using log(NPP), and these equations are provided by Campbell (1995). Variance for the perfect model experiments is calculated as a mean across the five different ensemble members the forecast simulations were initialized from."
   ]
  },
  {
   "cell_type": "code",
   "execution_count": 18,
   "id": "ef946154-fb01-4214-bb8d-4c922f719ea9",
   "metadata": {},
   "outputs": [],
   "source": [
    "# Calculate PPP for the whole Arctic - logged values\n",
    "# a. initialize empty arrays\n",
    "PPP_arc = np.zeros([6,24]);\n",
    "totarc_sumclim = np.zeros([150,12]); totarc_sumpme = np.zeros([6,5,15,24]);\n",
    "totarc_meanlogclim = np.zeros([12]); totarc_varlogclim = np.zeros([12]); \n",
    "totarc_meanlogpme = np.zeros([6,24]); totarc_varlogpme = np.zeros([6,24]);\n",
    "\n",
    "# b. Loop through grid cells. In the Arctic, add climatological NPP by month (taking grid cell area into\n",
    "#    account). Then find the mean and variance for the log(NPP).\n",
    "for i in np.arange(0,384):\n",
    "    for j in np.arange(0,320):\n",
    "        if np.isnan(areacello_ocn[i,j]) == False:\n",
    "            for t in np.arange(0,12):\n",
    "                totarc_sumclim[:,t] = dat_climt[:,t, i, j]*areacello_ocn[i,j] + totarc_sumclim[:,t]\n",
    "totarc_meanlogclim[:] = np.nanmean(np.log(totarc_sumclim[:,:] + 1e-16), axis = 0)\n",
    "totarc_varlogclim[:] = np.nanvar(np.log(totarc_sumclim[:,:]+ 1e-16), axis = 0)\n",
    "\n",
    "# c. Loop through initialization months (6) of perfect model experiments as well as grid cells. \n",
    "#    In the Arctic, add climatological NPP by month (taking grid cell area into account). Then find \n",
    "#    the mean and variance for the log(NPP) for each initialization month.\n",
    "for imno in np.arange(0,6):\n",
    "    for i in np.arange(0,384):\n",
    "        for j in np.arange(0,320):\n",
    "            if np.isnan(areacello_ocn[i,j]) == False:\n",
    "                for t in np.arange(0,24):\n",
    "                    totarc_sumpme[imno,:,:,t] = pmeall[imno,:,:,t,i,j]*areacello_ocn[i,j] + totarc_sumpme[imno,:,:,t]\n",
    "    totarc_meanlogpme[imno,:] = np.nanmean(np.nanmean(np.log(totarc_sumpme[imno,:,:,:]+ 1e-16), axis = 1), axis = 0)\n",
    "    totarc_varlogpme[imno,:] = np.nanmean(np.nanvar(np.log(totarc_sumpme[imno,:,:,:]+ 1e-16), axis = 1), axis = 0)\n",
    "\n",
    "# d. Calculate the PPP for each initialization (6) and each month (24). Log variance is calculated using \n",
    "#    equations from Campbell (1995). Note that the variance of the climatology is calculated using the \n",
    "#    correct month (t is the forecast month, so tclim is calculated to find the actual month).\n",
    "tarc_varpme = np.zeros([6,24]); tarc_varclim = np.zeros([6,24]);\n",
    "for imno in np.arange(0,6):\n",
    "    for t in np.arange(0,24):\n",
    "        tclim = t + imno * 2\n",
    "        if tclim >= 12:\n",
    "            tclim = tclim - 12\n",
    "        if tclim >= 12:\n",
    "            tclim = tclim - 12\n",
    "        totarc_varclim = (math.exp(totarc_varlogclim[tclim]) - 1) * (math.exp(2* totarc_meanlogclim[tclim] + totarc_varlogclim[tclim])) #totarc_varlogclim[t]#\n",
    "        tarc_varclim[imno,t] = totarc_varclim\n",
    "        totarc_varpme = (math.exp(totarc_varlogpme[imno,t]) - 1) * (math.exp(2* totarc_meanlogpme[imno,t] + totarc_varlogpme[imno,t]))\n",
    "        tarc_varpme[imno,t] = totarc_varpme\n",
    "        if totarc_varclim == 0 or totarc_varpme == 0:\n",
    "            break\n",
    "        PPP_arc[imno,t] = 1 - (totarc_varpme / totarc_varclim)\n"
   ]
  },
  {
   "cell_type": "code",
   "execution_count": null,
   "id": "21d68dfb-62e4-4b8f-be1c-594f617620af",
   "metadata": {},
   "outputs": [],
   "source": [
    "PPP_arc = PPP_arc_30"
   ]
  },
  {
   "cell_type": "markdown",
   "id": "bb36149f-47ef-4352-b3f8-31bbf6c7df7a",
   "metadata": {},
   "source": [
    "6. Sum the mean and standard deviation in NPP across the Arctic by month, using dpm to calculate the days in each month and areacello_ocn to account for the differential area represented by each grid cell."
   ]
  },
  {
   "cell_type": "code",
   "execution_count": 14,
   "id": "c9aab3f3-8fbb-46a4-93ba-5a853b068031",
   "metadata": {},
   "outputs": [],
   "source": [
    "dpm = [31, 28, 31, 30, 31, 30, 31, 31, 30, 31, 30, 31]"
   ]
  },
  {
   "cell_type": "code",
   "execution_count": 15,
   "id": "1fba4dfe-ef25-419b-bc73-b5ff9a18b528",
   "metadata": {},
   "outputs": [],
   "source": [
    "clim_arc, clim_arc_sd = np.zeros(12), np.zeros(12); climmax = 0\n",
    "\n",
    "unit = 'NPP (Tg C m^{-2} month^^{-1})'#'log(NPP) log(g C m-2 d-1) * million km2'; \n",
    "unitconv = 10.377 /1e12# # mmol C m-3 cm s-1 converted to g C m-2 d-1\n",
    "# m2 converted to km2, km2 converted to million km2\n",
    "\n",
    "for t in np.arange(0,12,1):\n",
    "    clim_arc[t] = np.nansum(clim[t,:,:]* areacello_ocn ) * unitconv * dpm[t]\n",
    "    clim_arc_sd[t] = np.nansum(clim_sd[t,:,:]* areacello_ocn ) * unitconv * dpm[t]\n",
    "    if clim_arc[t] > climmax:\n",
    "        climmax = clim_arc[t]"
   ]
  },
  {
   "cell_type": "markdown",
   "id": "2d44e551-d68e-429a-a0d5-a1af251cfcaf",
   "metadata": {},
   "source": [
    "7. Plot the PPP for each initialization between Jan 2010 (or 2030) - Oct 2012 (2032). The background gradient is colored using the relative NPP during that month."
   ]
  },
  {
   "cell_type": "code",
   "execution_count": 19,
   "id": "b5f6b1b6-a44e-4f50-a7e6-e3b0601188d9",
   "metadata": {},
   "outputs": [
    {
     "name": "stderr",
     "output_type": "stream",
     "text": [
      "/glade/derecho/scratch/cpayne/tmp/ipykernel_50523/1399984201.py:37: MatplotlibDeprecationWarning: Unable to determine Axes to steal space for Colorbar. Using gca(), but will raise in the future. Either provide the *cax* argument to use as the Axes for the Colorbar, provide the *ax* argument to steal space from it, or add *mappable* to an Axes.\n",
      "  fig.colorbar(ScalarMappable(norm=norm, cmap=cmap))\n"
     ]
    },
    {
     "data": {
      "text/plain": [
       "(0.0, 1.0)"
      ]
     },
     "execution_count": 19,
     "metadata": {},
     "output_type": "execute_result"
    },
    {
     "data": {
      "image/png": "[encoded data removed]",
      "text/plain": [
       "<Figure size 650x300 with 2 Axes>"
      ]
     },
     "metadata": {},
     "output_type": "display_data"
    }
   ],
   "source": [
    "# a. Set colors for initialization months and for background gradient, and the month label (monnam)\n",
    "cols = ['#882255', '#AA4499', '#CC6677', '#88CCEE', '#44AA99', '#332288']\n",
    "bgcols2 = ['#FFFFFF', '#F9F9F9', '#F6F6F6', '#F1F1F1', '#ECECEC', '#E6E6E6', '#E0E0E0', '#D9D9D9', '#D2D2D2',\n",
    "          '#CACACB', '#C3C3C3', '#BBBBBB', '#B3B3B3', '#ABABAB', '#A3A3A3', '#9B9B9B', '#929292', '#8A8A8A',\n",
    "          '#818181', '#797979', '#707070']\n",
    "\n",
    "monnam = ['J', 'F', 'M', 'A', 'M', 'J', 'J', 'A', 'S', 'O', 'N', 'D', 'J', 'F', 'M', 'A', 'M', 'J', 'J', 'A', 'S', 'O', \n",
    "          'N', 'D', 'J', 'F', 'M', 'A', 'M', 'J', 'J', 'A', 'S', 'O']\n",
    "\n",
    "# b. Prepare the colorbar for the background gradient\n",
    "bgcols = ['#707070','#FFFFFF']\n",
    "vals = np.arange(0,1.1,1)\n",
    "norm = plt.Normalize(vals[0], vals[-1])\n",
    "cmap = c.LinearSegmentedColormap.from_list('', list(zip(np.array(vals)/vals[-1], bgcols)))\n",
    "\n",
    "# c. Initialize the figure and prepare the background gradient. Also set the significance line.\n",
    "fig = plt.figure(figsize=(6.5,3)) \n",
    "ax = fig.subplots()\n",
    "for t in np.arange(0,12):\n",
    "    bgval = int(20 - np.round(clim_arc[t]/climmax*20, 0))\n",
    "    ax.axvspan(t - .5, t + .5, color=bgcols2[bgval]);\n",
    "    ax.axvspan(t + 11.5, t + 12.5, color=bgcols2[bgval]);\n",
    "    ax.axvspan(t + 23.5, t + 24.5, color=bgcols2[bgval]);\n",
    "\n",
    "# d. Plot PPP for each initialization month\n",
    "lim_init = np.zeros(24)\n",
    "for imno in np.arange(0,6):\n",
    "    for t in np.arange(0,24):\n",
    "        tclim = t + imno * 2\n",
    "        if tclim >= 12:\n",
    "            tclim = tclim - 12\n",
    "        if tclim >= 12:\n",
    "            tclim = tclim - 12\n",
    "    plt.plot(np.arange(0 + imno*2,24 + imno*2), PPP_arc[imno,:], color = cols[imno]); \n",
    "    plt.scatter(np.arange(0 + imno*2,24 + imno*2), PPP_arc[imno,:], color = cols[imno], s= 12)\n",
    "plt.xticks(np.arange(0,24+2*imno), monnam); plt.xlim(-.5,33.5)\n",
    "fig.colorbar(ScalarMappable(norm=norm, cmap=cmap))\n",
    "# plt.xlabel('Month'), plt.ylabel('PPP'); \n",
    "plt.ylim(0,1)\n",
    "\n",
    "# e. Write plot out.\n",
    "# figdir = '/glade/u/home/cpayne/Projects/PredictPerfect/Figures/PaperFigs/PPP_NPPmean_2030.png';\n",
    "# plt.savefig(figdir,facecolor='none', dpi = 600);\n",
    "# # plt.close()\n"
   ]
  },
  {
   "cell_type": "markdown",
   "id": "1ec7280e-3d04-4ae9-aa26-462dd5b3176d",
   "metadata": {},
   "source": [
    "8. Here, I use bootstrapping to investigate why PPP has negative values. I calculate a climatology using 15 random ensemble members and compare variability in the climatology to variability in the perfect model experiment ensembles."
   ]
  },
  {
   "cell_type": "code",
   "execution_count": 92,
   "id": "2e028fac-e9ca-4c49-8247-1cb26539be65",
   "metadata": {},
   "outputs": [
    {
     "name": "stdout",
     "output_type": "stream",
     "text": [
      "[56, 131, 82, 40, 55, 145, 134, 8, 1, 37, 147, 113, 64, 69, 109]\n"
     ]
    }
   ],
   "source": [
    "import random\n",
    "\n",
    "x=random.sample(range(150), 15)\n",
    "print(x)\n",
    "\n",
    "dat_clim_boot = np.zeros([15,12,384,320])\n",
    "for a in np.arange(0,15):\n",
    "    xx = x[a]\n",
    "    dat_clim_boot[a,:,:,:] = dat_climt[xx,:,:,:]"
   ]
  },
  {
   "cell_type": "code",
   "execution_count": 93,
   "id": "2bd3d1dd-b341-43d5-8eb2-caf7ede9e9d6",
   "metadata": {},
   "outputs": [],
   "source": [
    "# Calculate PPP for the whole Arctic - logged values\n",
    "# a. initialize empty arrays\n",
    "PPP_arc = np.zeros([6,24]);\n",
    "totarc_sumclim_boot = np.zeros([15,12]);\n",
    "totarc_meanlogclim_boot = np.zeros([12]); totarc_varlogclim_boot = np.zeros([12]); \n",
    "\n",
    "# b. Loop through grid cells. In the Arctic, add climatological NPP by month (taking grid cell area into\n",
    "#    account). Then find the mean and variance for the log(NPP).\n",
    "for i in np.arange(0,384):\n",
    "    for j in np.arange(0,320):\n",
    "        if np.isnan(areacello_ocn[i,j]) == False:\n",
    "            for t in np.arange(0,12):\n",
    "                totarc_sumclim_boot[:,t] = dat_clim_boot[:,t, i, j]*areacello_ocn[i,j] + totarc_sumclim_boot[:,t]\n",
    "totarc_meanlogclim_boot[:] = np.nanmean(np.log(totarc_sumclim_boot[:,:] + 1e-16), axis = 0)\n",
    "totarc_varlogclim_boot[:] = np.nanvar(np.log(totarc_sumclim_boot[:,:]+ 1e-16), axis = 0)\n",
    "\n",
    "# d. Calculate the PPP for each initialization (6) and each month (24). Log variance is calculated using \n",
    "#    equations from Campbell (1995). Note that the variance of the climatology is calculated using the \n",
    "#    correct month (t is the forecast month, so tclim is calculated to find the actual month).\n",
    "tarc_varclim_boot = np.zeros([6,24]);\n",
    "for imno in np.arange(0,6):\n",
    "    for t in np.arange(0,24):\n",
    "        tclim = t + imno * 2\n",
    "        if tclim >= 12:\n",
    "            tclim = tclim - 12\n",
    "        if tclim >= 12:\n",
    "            tclim = tclim - 12\n",
    "        totarc_varclim_boot = (math.exp(totarc_varlogclim_boot[tclim]) - 1) * (math.exp(2* totarc_meanlogclim_boot[tclim] + totarc_varlogclim_boot[tclim])) #totarc_varlogclim[t]#\n",
    "        tarc_varclim_boot[imno,t] = totarc_varclim_boot\n",
    "        "
   ]
  },
  {
   "cell_type": "code",
   "execution_count": 94,
   "id": "2586f70e-fd38-45c8-84af-f090ff841b1b",
   "metadata": {},
   "outputs": [
    {
     "name": "stdout",
     "output_type": "stream",
     "text": [
      "[2.31188513e+18 2.18617241e+19 8.13038599e+20 6.53378631e+21\n",
      " 7.45967390e+21 7.33285749e+21 4.65708489e+21 1.53881642e+21\n",
      " 4.56331394e+20 6.54023493e+19 5.14807973e+18 1.16163362e+18\n",
      " 2.31188513e+18 2.18617241e+19 8.13038599e+20 6.53378631e+21\n",
      " 7.45967390e+21 7.33285749e+21 4.65708489e+21 1.53881642e+21\n",
      " 4.56331394e+20 6.54023493e+19 5.14807973e+18 1.16163362e+18\n",
      " 2.31188513e+18 2.18617241e+19 8.13038599e+20 6.53378631e+21\n",
      " 7.45967390e+21 7.33285749e+21 4.65708489e+21 1.53881642e+21\n",
      " 4.56331394e+20 6.54023493e+19 5.14807973e+18 1.16163362e+18]\n"
     ]
    }
   ],
   "source": [
    "tarc_varclim_boot2 = np.tile(tarc_varclim_boot[0,0:12], reps =3)\n",
    "print(tarc_varclim_boot2)"
   ]
  },
  {
   "cell_type": "markdown",
   "id": "5210b769-a0df-4468-84f0-902e66290703",
   "metadata": {},
   "source": [
    "Here, I plot variance for the ensemble members and compare it to the bootstrapped large ensemble-based climatology."
   ]
  },
  {
   "cell_type": "code",
   "execution_count": 95,
   "id": "61ef1d43-a0fe-4d11-920d-0744343e6a01",
   "metadata": {},
   "outputs": [
    {
     "name": "stderr",
     "output_type": "stream",
     "text": [
      "/glade/derecho/scratch/cpayne/tmp/ipykernel_50523/408490380.py:38: MatplotlibDeprecationWarning: Unable to determine Axes to steal space for Colorbar. Using gca(), but will raise in the future. Either provide the *cax* argument to use as the Axes for the Colorbar, provide the *ax* argument to steal space from it, or add *mappable* to an Axes.\n",
      "  fig.colorbar(ScalarMappable(norm=norm, cmap=cmap))\n"
     ]
    },
    {
     "data": {
      "image/png": "[encoded data removed]",
      "text/plain": [
       "<Figure size 650x300 with 2 Axes>"
      ]
     },
     "metadata": {},
     "output_type": "display_data"
    }
   ],
   "source": [
    "# a. Set colors for initialization months and for background gradient, and the month label (monnam)\n",
    "cols = ['#882255', '#AA4499', '#CC6677', '#88CCEE', '#44AA99', '#332288']\n",
    "bgcols2 = ['#FFFFFF', '#F9F9F9', '#F6F6F6', '#F1F1F1', '#ECECEC', '#E6E6E6', '#E0E0E0', '#D9D9D9', '#D2D2D2',\n",
    "          '#CACACB', '#C3C3C3', '#BBBBBB', '#B3B3B3', '#ABABAB', '#A3A3A3', '#9B9B9B', '#929292', '#8A8A8A',\n",
    "          '#818181', '#797979', '#707070']\n",
    "\n",
    "monnam = ['J', 'F', 'M', 'A', 'M', 'J', 'J', 'A', 'S', 'O', 'N', 'D', 'J', 'F', 'M', 'A', 'M', 'J', 'J', 'A', 'S', 'O', \n",
    "          'N', 'D', 'J', 'F', 'M', 'A', 'M', 'J', 'J', 'A', 'S', 'O']\n",
    "\n",
    "# b. Prepare the colorbar for the background gradient\n",
    "bgcols = ['#707070','#FFFFFF']\n",
    "vals = np.arange(0,1.1,1)\n",
    "norm = plt.Normalize(vals[0], vals[-1])\n",
    "cmap = c.LinearSegmentedColormap.from_list('', list(zip(np.array(vals)/vals[-1], bgcols)))\n",
    "\n",
    "# c. Initialize the figure and prepare the background gradient. Also set the significance line.\n",
    "fig = plt.figure(figsize=(6.5,3)) \n",
    "ax = fig.subplots()\n",
    "for t in np.arange(0,12):\n",
    "    bgval = int(20 - np.round(clim_arc[t]/climmax*20, 0))\n",
    "    ax.axvspan(t - .5, t + .5, color=bgcols2[bgval]);\n",
    "    ax.axvspan(t + 11.5, t + 12.5, color=bgcols2[bgval]);\n",
    "    ax.axvspan(t + 23.5, t + 24.5, color=bgcols2[bgval]);\n",
    "\n",
    "plt.plot(np.arange(0,34), tarc_varclim_boot2[0:34], color = 'black',linewidth =3); \n",
    "# d. Plot PPP for each initialization month\n",
    "lim_init = np.zeros(24)\n",
    "for imno in np.arange(0,6):\n",
    "    for t in np.arange(0,24):\n",
    "        tclim = t + imno * 2\n",
    "        if tclim >= 12:\n",
    "            tclim = tclim - 12\n",
    "        if tclim >= 12:\n",
    "            tclim = tclim - 12\n",
    "    plt.plot(np.arange(0 + imno*2,24 + imno*2), tarc_varpme[imno,:], color = cols[imno]); \n",
    "    plt.scatter(np.arange(0 + imno*2,24 + imno*2), tarc_varpme[imno,:], color = cols[imno], s= 12)\n",
    "plt.xticks(np.arange(0,24+2*imno), monnam); plt.xlim(-.5,33.5)\n",
    "fig.colorbar(ScalarMappable(norm=norm, cmap=cmap))\n",
    "plt.xlabel('Month'), plt.ylabel('Variance'); \n",
    "# plt.ylim(0,1)\n"
   ]
  },
  {
   "cell_type": "markdown",
   "id": "5bd48945-9f9e-4eca-a916-d8a61b13f7d9",
   "metadata": {},
   "source": [
    "Here, I calculate how many PPP values are positive in the most productive months for each initialization month. I use this to statistically compare PPP between the 2010s and the 2030s."
   ]
  },
  {
   "cell_type": "code",
   "execution_count": 109,
   "id": "608d04c1-6ac4-47ae-95ae-49f1283d38b0",
   "metadata": {},
   "outputs": [],
   "source": [
    "PPPmean_30 = np.zeros([6]); PPPmean_10 = np.zeros([6]);\n",
    "for imno in np.arange(0,6):\n",
    "    ct30 = 0; ct10 = 0\n",
    "    for t in np.arange(0,24):\n",
    "        tclim = t + imno * 2\n",
    "        if tclim >= 12:\n",
    "            tclim = tclim - 12\n",
    "        if tclim >= 12:\n",
    "            tclim = tclim - 12\n",
    "        if tclim >= 4 and tclim <= 6 and PPP_arc_30[imno,t] > 0:\n",
    "            ct30 = ct30 + 1\n",
    "            PPPmean_30[imno] = PPP_arc_30[imno,t] + PPPmean_30[imno]\n",
    "        if tclim >= 4 and tclim <= 6 and PPP_arc_10[imno,t] > 0:\n",
    "            ct10 = ct10 + 1\n",
    "            PPPmean_10[imno] = PPP_arc_10[imno,t] + PPPmean_10[imno]\n",
    "            # if imno == 0:\n",
    "            #     print(tclim, ct10, PPP_arc_10[imno,t])\n",
    "    PPPmean_30[imno] = PPPmean_30[imno]/ct30; PPPmean_10[imno] = PPPmean_10[imno]/ct10; "
   ]
  },
  {
   "cell_type": "code",
   "execution_count": 112,
   "id": "c822a631-d62f-4ee0-9415-2fc453d92b60",
   "metadata": {},
   "outputs": [
    {
     "data": {
      "text/plain": [
       "TtestResult(statistic=-7.342269658023584, pvalue=0.0007353457173672577, df=5)"
      ]
     },
     "execution_count": 112,
     "metadata": {},
     "output_type": "execute_result"
    }
   ],
   "source": [
    "import scipy.stats as stats\n",
    "stats.ttest_rel(PPPmean_10, PPPmean_30)"
   ]
  },
  {
   "cell_type": "code",
   "execution_count": 87,
   "id": "b88fe84c-e511-49e9-b69e-3be65e994016",
   "metadata": {},
   "outputs": [
    {
     "data": {
      "text/plain": [
       "TtestResult(statistic=-3.452816293002928, pvalue=0.01818238838055678, df=5)"
      ]
     },
     "execution_count": 87,
     "metadata": {},
     "output_type": "execute_result"
    }
   ],
   "source": [
    "import scipy.stats as stats\n",
    "stats.ttest_rel(PPPmean_10, PPPmean_30)"
   ]
  },
  {
   "cell_type": "code",
   "execution_count": 101,
   "id": "185db2fd-77d2-4d68-aea5-c47f73e2c566",
   "metadata": {},
   "outputs": [
    {
     "name": "stdout",
     "output_type": "stream",
     "text": [
      "TtestResult(statistic=-1.7680502561502796, pvalue=0.09031713501405034, df=23)\n"
     ]
    }
   ],
   "source": [
    "# for imno in np.arange(0,6):\n",
    "print(stats.ttest_rel(np.mean(PPP_arc_10,axis=0),np.mean(PPP_arc_30,axis=0)))"
   ]
  },
  {
   "cell_type": "code",
   "execution_count": 106,
   "id": "1c055dd6-3e8c-49d8-a3cc-330a9760950a",
   "metadata": {},
   "outputs": [],
   "source": [
    "PPP_init30 = np.full([6,34], np.nan); PPP_init10 = np.full([6,34], np.nan); \n",
    "for imno in np.arange(0,6):\n",
    "    for t in np.arange(0,24):\n",
    "        treal = t + imno * 2\n",
    "        tclim = treal\n",
    "        if tclim >= 12:\n",
    "            tclim = tclim - 12\n",
    "        if tclim >= 12:\n",
    "            tclim = tclim - 12\n",
    "        if PPP_arc_10[imno,t] > 0:\n",
    "            PPP_init10[imno,treal] = PPP_arc_10[imno,t]\n",
    "        if PPP_arc_30[imno,t] > 0:\n",
    "            PPP_init30[imno,treal] = PPP_arc_30[imno,t]\n",
    "        "
   ]
  },
  {
   "cell_type": "code",
   "execution_count": 115,
   "id": "c95c66b5-b69a-4cbc-b69a-e630c0e5560b",
   "metadata": {},
   "outputs": [
    {
     "name": "stdout",
     "output_type": "stream",
     "text": [
      "14 0.2019659197122267 0.31613545077502464 0.03194240182721445\n",
      "18 0.2984053338541827 0.4940070286689535 0.006502200954019821\n"
     ]
    }
   ],
   "source": [
    "for t in np.arange(0,34):\n",
    "    ttest = stats.ttest_rel(PPP_init10[:,t], PPP_init30[:,t])\n",
    "    if ttest.pvalue < 0.05:\n",
    "        print(t,np.nanmean(PPP_init10[:,t]), np.nanmean(PPP_init30[:,t]), ttest.pvalue)"
   ]
  }
 ],
 "metadata": {
  "kernelspec": {
   "display_name": "NPL 2023b",
   "language": "python",
   "name": "npl-2023b"
  },
  "language_info": {
   "codemirror_mode": {
    "name": "ipython",
    "version": 3
   },
   "file_extension": ".py",
   "mimetype": "text/x-python",
   "name": "python",
   "nbconvert_exporter": "python",
   "pygments_lexer": "ipython3",
   "version": "3.10.12"
  }
 },
 "nbformat": 4,
 "nbformat_minor": 5
}
