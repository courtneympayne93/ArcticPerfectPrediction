{
 "cells": [
  {
   "cell_type": "markdown",
   "id": "f5a2b779-026c-4587-acc8-925afc254fe0",
   "metadata": {},
   "source": [
    "This script is used to produce Figure 7 and Figure S5 - the relative importance of limitation terms and predictability of those limitation terms for a single initialization month (in this case, May) for a single year (in this case, 2010) for the Payne et al. paper \"Quantifying the potential predictability of Arctic primary production\". In order to reproduce these figure, the script will need to be run both for 2010 and 2030 data and for all variables of interest (e.g., 'diat_light_lim_Cweight_avg_100m', 'diat_N_lim_Cweight_avg_100m', and 'SST'). This involves running steps 2-7 many times."
   ]
  },
  {
   "cell_type": "markdown",
   "id": "4abe8f08-3ed0-4967-8e00-4ec0daca4c4e",
   "metadata": {},
   "source": [
    "1. Import packages"
   ]
  },
  {
   "cell_type": "code",
   "execution_count": 1,
   "id": "8f5f22be-c8a2-496d-84d0-129cf0ea0040",
   "metadata": {},
   "outputs": [],
   "source": [
    "import matplotlib.pyplot as plt\n",
    "from matplotlib import colors as c\n",
    "import numpy as np\n",
    "from scipy import interpolate\n",
    "import scipy\n",
    "from  matplotlib.cm import ScalarMappable\n",
    "import glob\n",
    "import xarray as xr\n",
    "import math"
   ]
  },
  {
   "cell_type": "markdown",
   "id": "8b6672dd-784a-41b4-911f-54938469632f",
   "metadata": {},
   "source": [
    "2. Set the variable of interest and the year. Also read in the variable 'clim1' - this can be output from any scripts where the clim variable is created for NPP, and just provides a monthly climatology of NPP for each grid cell."
   ]
  },
  {
   "cell_type": "code",
   "execution_count": 27,
   "id": "6f039759-48cd-46a6-a097-0a88e239a9a2",
   "metadata": {},
   "outputs": [],
   "source": [
    "# a. Set the variable (vnam) and the year.\n",
    "vnam = 'diat_light_lim_Cweight_avg_100m'#'SST' #'diat_light_lim_Cweight_avg_100m' #'diat_N_lim_Cweight_avg_100m'\n",
    "NPP = False\n",
    "yr = '2010'#'2030'\n",
    "\n",
    "# b.Set directory information.\n",
    "clim1 = xr.open_dataset(\"/glade/u/home/cpayne/PredictPerfect/CESM2_clims/NPP_clim.nc\")\n",
    "vdir = 'ocn'\n",
    "vfil = '.pop.h.'+ vnam + '.'\n",
    "vn = 1"
   ]
  },
  {
   "cell_type": "markdown",
   "id": "5e02b867-310d-49c9-93f8-0b8b655b7430",
   "metadata": {},
   "source": [
    "3. Read in NPP files for diatom, diazotroph, and small phytoplankton functional types (photoC_diat_zint, photoC_diaz_zint, and photoC_sp_zint, respectively) from the CESM2-LE for years 2010-2015. NPP is calculated for each model grid cell and across all ensemble members for the years 2010-2012 (dat_climt). To switch between 2010 and 2030, change the file name and adjust dat[t,:,:]. Write out the climatology variable you've generated as a netcdf, then read it in later."
   ]
  },
  {
   "cell_type": "code",
   "execution_count": 19,
   "id": "f0f9776a-769f-4af7-bb3d-1a2a1f302132",
   "metadata": {},
   "outputs": [],
   "source": [
    "# a. Select variable of interest and locate the files\n",
    "dat_clim = np.full([50, 36, 384, 320], np.nan)\n",
    "for j in np.arange(0,vn):\n",
    "    if NPP == True:\n",
    "        fdir = '/glade/campaign/cgd/cesm/CESM2-LE/'+ vdir + '/proc/tseries/month_1/' + vnam[j] + '/'\n",
    "    else:\n",
    "        fdir = '/glade/campaign/cgd/cesm/CESM2-LE/'+ vdir + '/proc/tseries/month_1/' + vnam + '/'\n",
    "\n",
    "# b. Make an array of nans to store the values from all EMs\n",
    "    i = -1\n",
    "\n",
    "# c. Loop through all the files in the directory, storing data in dat_clim\n",
    "    for file in glob.glob(fdir + \"*smbb*201001*\"): #### Change between '*201001*' and '*203001*'\n",
    "        i = i + 1\n",
    "\n",
    "# d. Open the netcdf and store the variable of interest as dat. Also open lon and lat.\n",
    "        ncfile = xr.open_dataset(file) \n",
    "        if NPP == True:\n",
    "            dat = ncfile[vnam[j]].values\n",
    "        else:\n",
    "            dat = ncfile[vnam].values\n",
    "        lon, lat = ncfile.TLONG.values, ncfile.TLAT.values #if in 'ice', use 'TLON', in 'ocn', use 'TLONG'\n",
    "\n",
    "# e. Interpolate lat and lon values over holes in the arrays\n",
    "        ok = ~np.isnan(lon)\n",
    "        xp = ok.ravel().nonzero()[0]\n",
    "        fp = lon[~np.isnan(lon)]\n",
    "        x  = np.isnan(lon).ravel().nonzero()[0]\n",
    "        lon[np.isnan(lon)] = np.interp(x, xp, fp)\n",
    "\n",
    "        ok = ~np.isnan(lat)\n",
    "        xp = ok.ravel().nonzero()[0]\n",
    "        fp = lat[~np.isnan(lat)]\n",
    "        x  = np.isnan(lat).ravel().nonzero()[0]\n",
    "        lat[np.isnan(lat)] = np.interp(x, xp, fp)\n",
    "\n",
    "# f. Loop through the ensemble members, assigning each to its own column.\n",
    "        if j == 0:\n",
    "            for t in range(0,36): \n",
    "                dat_clim[i,t,:,:] = dat[t,:,:]\n",
    "                #### In 2010, this should read dat[t,:,:]. In 2030, it reads dat[t+60,:,:] to skip 2025-2029\n",
    "        else:\n",
    "            for t in range(0,36):\n",
    "                dat_clim[i,t,:,:] = dat[t,:,:] + dat_clim[i,t,:,:]\n",
    "                #### In 2010, this should read dat[t,:,:]. In 2030, it reads dat[t+60,:,:] to skip 2025-2029\n",
    "\n",
    "# g. Sum over EMs, then divide by 50 to get a climatology for each grid cell\n",
    "dat_climt = np.full([150, 384, 320], np.nan)\n",
    "clim = np.full([12, 384, 320], np.nan)\n",
    "clim_sd = np.full([12, 384, 320], np.nan)\n",
    "clim_var = np.full([12, 384, 320], np.nan)\n",
    "\n",
    "for t in range(0,12):\n",
    "    dat_climt[0:50,:,:] = dat_clim[:,t,:,:]\n",
    "    dat_climt[50:100,:,:] = dat_clim[:,t + 12,:,:]\n",
    "    dat_climt[100:150,:,:] = dat_clim[:,t + 24,:,:]\n",
    "    clim[t,:,:] = (np.sum(dat_climt, axis = 0)) / 150\n",
    "    clim_sd[t,:,:] = np.std(dat_climt, axis = 0)\n",
    "    clim_var[t,:,:] = np.var(dat_climt, axis = 0)\n"
   ]
  },
  {
   "cell_type": "code",
   "execution_count": null,
   "id": "783eb901-c0e2-4d39-ac79-f0a965a8d53c",
   "metadata": {},
   "outputs": [],
   "source": [
    "#h. Write out the variable climatology. \n",
    "cdir = \"/glade/u/home/cpayne/PredictPerfect/CESM2_clims/\" + vnam + \"_clim\" + yr + \".nc\"\n",
    "ds = xr.Dataset(\n",
    "    data_vars=dict(\n",
    "        clim=([\"time\", \"lat\", \"lon\"], clim),\n",
    "        clim_sd=([\"time\", \"lat\", \"lon\"], clim_sd),\n",
    "        clim_var=([\"time\", \"lat\", \"lon\"], clim_var),\n",
    "    ),\n",
    "    coords=dict(\n",
    "        TLON=([\"lat\", \"lon\"], lon),\n",
    "        TLAT=([\"lat\", \"lon\"], lat),\n",
    "        time=ncfile.time.values[0:12]\n",
    "    ),\n",
    ")\n",
    "ds.to_netcdf(path = cdir, mode = 'w')"
   ]
  },
  {
   "cell_type": "markdown",
   "id": "f93ed492-6f06-4f7f-87c2-5c96a876ed45",
   "metadata": {},
   "source": [
    "4. Calculate the area of each grid cell in the Arctic (here, >50°N). This variable is used to scale NPP by area and also to exclude sub-Arctic grid cells."
   ]
  },
  {
   "cell_type": "code",
   "execution_count": 12,
   "id": "d89ae727-5e20-4220-86d0-b1f84c970844",
   "metadata": {},
   "outputs": [],
   "source": [
    "# a. Read in the areacello file and use this to weight each variable by the area of the grid cell.\n",
    "acdir = '/glade/collections/cmip/CMIP6/CMIP/NCAR/CESM2/historical/r1i1p1f1/Ofx/areacello/gn/files/d20190308/areacello_Ofx_CESM2_historical_r1i1p1f1_gn.nc'\n",
    "acfil = xr.open_dataset(acdir)\n",
    "areacello = acfil['areacello'].values # tarea <- ocean files\n",
    "areacello_ocn = np.full([384,320], np.nan)\n",
    "for i in np.arange(0,384):\n",
    "    for j in np.arange(0,320):\n",
    "        if np.isnan(dat_climt[0,5,i,j]) == False and lat[i,j] > 50:\n",
    "            areacello_ocn[i,j] = areacello[i,j]\n",
    "    "
   ]
  },
  {
   "cell_type": "markdown",
   "id": "ad096387-7811-49b3-9384-59bcb1740216",
   "metadata": {},
   "source": [
    "5. Read in monthly NPP for the two-year perfect model experiments. These experiments were initialized every other month (6x per year) from five different CESM2-LE ensemble members and have 15 ensemble members in each set. Consequently, the dimensions of pmeall are initialization, initial ensemble member, ensemble member, time, longitude, latitude. *CRITICAL*: If the primary variable is SST, un-comment the lines in section 5a - the perfect model experiments only have temp output. This step will take a long time for the temp variable because it's 4D."
   ]
  },
  {
   "cell_type": "code",
   "execution_count": 4,
   "id": "7f96ec23-d8be-4201-9715-1119dfc370b2",
   "metadata": {},
   "outputs": [
    {
     "name": "stdout",
     "output_type": "stream",
     "text": [
      "01\n",
      "03\n",
      "05\n",
      "07\n",
      "09\n",
      "11\n"
     ]
    },
    {
     "name": "stderr",
     "output_type": "stream",
     "text": [
      "/glade/derecho/scratch/cpayne/tmp/ipykernel_47746/4245035676.py:49: RuntimeWarning: Mean of empty slice\n",
      "  pme_mean[:,:,:,:,:] = np.nanmean(pmeall[:,:,:,:,:,:], axis = 2)\n"
     ]
    }
   ],
   "source": [
    "# a. Initialize arrays\n",
    "# vnam = 'TEMP'\n",
    "# vfil = '.pop.h.' + vnam + '.'\n",
    "pmeall = np.full([6,5,15,24,384,320], np.nan)\n",
    "pme_var = np.full([6,5,24,384,320], np.nan)\n",
    "pme_mean = np.full([6,5,24,384,320], np.nan)\n",
    "\n",
    "imstr = ('01', '03', '05', '07', '09', '11')\n",
    "\n",
    "# b. Set up big loop for opening arrays and calculating variance\n",
    "for imno in np.arange(0,6):\n",
    "    im = imstr[imno]\n",
    "    print(im)\n",
    "    stmon = '2010' + im\n",
    "    for i in np.arange(0,6,1):\n",
    "        if im == imstr[0]:\n",
    "            enmon = '201112'\n",
    "        elif im == imstr[i]:\n",
    "            enmon = '2012' + str(i*2).zfill(2)\n",
    "    i = -1\n",
    "    for init in np.arange(0,5):\n",
    "        if init == 0:\n",
    "            l = ''\n",
    "        else:\n",
    "            i = i + 1\n",
    "            let = ['b', 'c', 'd', 'e']\n",
    "            l = let[i]\n",
    "\n",
    "# c. Loop through the ensemble members. Open the appropriate file and add it to the array\n",
    "        for ens in np.arange(0,15):\n",
    "            i1 = ens + 1 \n",
    "            ### To switch between 2010 and 2030, change the first part of pmedir to either\n",
    "            #/glade/campaign/cgd/ppc/mholland/predict_cesm2/b.e21.BHIST_CESM2_2010_      or\n",
    "            #/glade/campaign/cgd/ppc/mholland/predict_cesm2_2030/b.e21.BSSP370smbb_CESM2_2030_\n",
    "            pmedir = '/glade/campaign/cgd/ppc/mholland/predict_cesm2/b.e21.BHIST_CESM2_2010_' + im + '_ens00'+ str(i1) + str(l) +'/' + vdir + '/proc/tseries/month_1/'\n",
    "            ### To switch between 2010 and 2030, change the first part of the file name (following pmedir) to\n",
    "            # 'b.e21.BHIST_CESM2_2010_' or 'b.e21.BSSP370smbb_CESM2_2030_'.\n",
    "            pmef = pmedir + 'b.e21.BHIST_CESM2_2010_' + im + '_ens00' + str(i1) + str(l) + vfil + stmon + '-' + enmon + '.nc'\n",
    "            pme = xr.open_dataset(pmef)\n",
    "            pmeall[imno,init,ens,:,:,:] = pme[vnam][:,:,:]\n",
    "            vname = vnam\n",
    "\n",
    "# d. Calculate variability across the perfect model ensemble members\n",
    "pme_var[:,:,:,:,:] = np.var(pmeall[:,:,:,:,:,:], axis = 2)\n",
    "pme_mean[:,:,:,:,:] = np.nanmean(pmeall[:,:,:,:,:,:], axis = 2)\n"
   ]
  },
  {
   "cell_type": "markdown",
   "id": "2ffeb4c7-b3c8-42f9-b90d-502affd89163",
   "metadata": {},
   "source": [
    "6. For the SST/TEMP variable only - we have to convert temperature to the limitation on phytoplankton growth by temperature. Run this section of the script to do so."
   ]
  },
  {
   "cell_type": "code",
   "execution_count": null,
   "id": "2094410c-99c8-43b6-970f-ef9d17110054",
   "metadata": {},
   "outputs": [],
   "source": [
    "# a. Modify pmeall and dat_climt by the reference temperature to calculate the temperature limitation terms for phytoplankton.\n",
    "Tref = 30; q10 = 2.0;\n",
    "#calculate tfunc\n",
    "pmeall = q10**((pmeall - Tref) / 10.)\n",
    "dat_climt = q10**((dat_climt - Tref) / 10.)\n"
   ]
  },
  {
   "cell_type": "markdown",
   "id": "15de181d-776c-47d3-b418-3fd479cf5289",
   "metadata": {},
   "source": [
    "7. Calculate PPP across the Arctic for the two years of each initialization. Variance for the perfect model experiments is calculated as a mean across the five different ensemble members the forecast simulations were initialized from."
   ]
  },
  {
   "cell_type": "code",
   "execution_count": 28,
   "id": "68bfa636-f542-4592-b926-750fe17b8bf9",
   "metadata": {},
   "outputs": [],
   "source": [
    "# Calculate PPP for the whole Arctic - logged values\n",
    "# a. initialize empty arrays\n",
    "PPP_arc = np.zeros([6,24])\n",
    "totarc_sumclim = np.zeros([150,12]); totarc_sumpme = np.zeros([6,5,15,24]);\n",
    "totarc_varclim = np.zeros([12]); totarc_varpme = np.zeros([6,24]);\n",
    "\n",
    "# b. Loop through grid cells. In the Arctic, add climatological NPP by month (taking grid cell area into\n",
    "#    account). Then find the mean and variance for the log(NPP).\n",
    "for i in np.arange(0,384):\n",
    "    for j in np.arange(0,320):\n",
    "        if np.isnan(areacello_ocn[i,j]) == False:\n",
    "            for t in np.arange(0,12):\n",
    "                totarc_sumclim[:,t] = dat_climt[:,t, i, j]*areacello_ocn[i,j] + totarc_sumclim[:,t]\n",
    "totarc_varclim[:] = np.var(totarc_sumclim[:,:], axis = 0)\n",
    "\n",
    "# c. Loop through initialization months (6) of perfect model experiments as well as grid cells. \n",
    "#    In the Arctic, add climatological NPP by month (taking grid cell area into account). Then find \n",
    "#    the mean and variance for the log(NPP) for each initialization month.\n",
    "for imno in np.arange(0,6):\n",
    "    for i in np.arange(0,384):\n",
    "        for j in np.arange(0,320):\n",
    "            if np.isnan(areacello_ocn[i,j]) == False:\n",
    "                for t in np.arange(0,24):\n",
    "                    totarc_sumpme[imno,:,:,t] = pmeall[imno,:,:,t,i,j]*areacello_ocn[i,j] + totarc_sumpme[imno,:,:,t]\n",
    "    totarc_varpme[imno,:] = np.nanmean(np.var(totarc_sumpme[imno,:,:,:], axis = 1), axis = 0)\n",
    "\n",
    "# d. Calculate the PPP for each initialization (6) and each month (24). Log variance is calculated using \n",
    "#    equations from Campbell (1995). Note that the variance of the climatology is calculated using the \n",
    "#    correct month (t is the forecast month, so tclim is calculated to find the actual month).\n",
    "for imno in np.arange(0,6):\n",
    "    for t in np.arange(0,24):\n",
    "        tclim = t + imno * 2\n",
    "        if tclim >= 12:\n",
    "            tclim = tclim - 12\n",
    "        if tclim >= 12:\n",
    "            tclim = tclim - 12\n",
    "        PPP_arc[imno,t] = 1 - (totarc_varpme[imno,t] / totarc_varclim[tclim])\n",
    " "
   ]
  },
  {
   "cell_type": "code",
   "execution_count": null,
   "id": "231985ea-3037-4c23-9967-ca2cda4949fb",
   "metadata": {},
   "outputs": [],
   "source": [
    "# e. Set PPP_arc to be equal to a descriptive variable - e.g. Llim - to allow it to be plotted \n",
    "#    with other variables.\n",
    "Llim = PPP_arc"
   ]
  },
  {
   "cell_type": "markdown",
   "id": "56119221-ac6b-4040-96fb-afbddcecc549",
   "metadata": {},
   "source": [
    "8. Calculate clim_arc using the climatological NPP. This will be used to calculate the background gradient."
   ]
  },
  {
   "cell_type": "code",
   "execution_count": 20,
   "id": "08fd40c0-15c8-420b-830e-41f8a33a6637",
   "metadata": {},
   "outputs": [],
   "source": [
    "clim_arc = np.zeros(12); climmax = 0\n",
    "for t in np.arange(0,12,1):\n",
    "    clim_arc[t] = np.nansum(clim1[\"clim\"][t,:,:] * areacello_ocn) / np.nansum(areacello_ocn)\n",
    "    if clim_arc[t] > climmax:\n",
    "        climmax = clim_arc[t]"
   ]
  },
  {
   "cell_type": "markdown",
   "id": "64c512bb-ea1c-431e-8dbd-f624dfa532db",
   "metadata": {},
   "source": [
    "9. To generate Figure 7b and S5b: Run through steps 2-7 for SST, light, and N limitation terms until you've calculated Llim2010, Nlim2010, and Tlim2010 variables (for example). Choose the initialization month desired (e.g. imno = 2) and adjust the array 'monnam' to have the correct month names for the initialization."
   ]
  },
  {
   "cell_type": "code",
   "execution_count": 26,
   "id": "28de8c3e-b96a-4ead-a7a9-8302da66e28b",
   "metadata": {},
   "outputs": [
    {
     "data": {
      "text/plain": [
       "(0.0, 1.0)"
      ]
     },
     "execution_count": 26,
     "metadata": {},
     "output_type": "execute_result"
    },
    {
     "data": {
      "image/png": "[encoded data removed]",
      "text/plain": [
       "<Figure size 600x300 with 1 Axes>"
      ]
     },
     "metadata": {},
     "output_type": "display_data"
    }
   ],
   "source": [
    "# a. Select the desired initialization month (0 = January, 1 = March, etc.) and adjust monnam values \n",
    "#    to get the correct months on the x axis.\n",
    "imno = 2\n",
    "monnam = ['M', 'J', 'J', 'A', 'S', 'O', 'N', 'D', 'J', 'F', 'M', 'A', 'M', 'J', 'J', 'A', 'S', 'O', \n",
    "          'N', 'D', 'J', 'F', 'M', 'A']\n",
    "\n",
    "# b. Set up the background gradient colors and the colorbar for that gradient.\n",
    "bgcols = ['#FFFFFF', '#F9F9F9', '#F6F6F6', '#F1F1F1', '#ECECEC', '#E6E6E6', '#E0E0E0', '#D9D9D9', '#D2D2D2',\n",
    "          '#CACACB', '#C3C3C3', '#BBBBBB', '#B3B3B3', '#ABABAB', '#A3A3A3', '#9B9B9B', '#929292', '#8A8A8A',\n",
    "          '#818181', '#797979', '#707070']\n",
    "vals = np.arange(0,1.1,1)\n",
    "cols = ['#707070','#FFFFFF']\n",
    "norm = plt.Normalize(vals[0], vals[-1])\n",
    "cmap = c.LinearSegmentedColormap.from_list('', list(zip(np.array(vals)/vals[-1], cols)))\n",
    "\n",
    "# c. Initialize the figure and prepare the background gradient. Also set the significance line.\n",
    "fig = plt.figure(figsize=(6,3)) \n",
    "ax = fig.subplots()\n",
    "for t in np.arange(0,12):\n",
    "    treal = t + imno*2\n",
    "    if treal > 11:\n",
    "        treal = treal - 12\n",
    "    bgval = int(20 - np.round(clim_arc[treal]/climmax*20, 0))\n",
    "    ax.axvspan(t - .5, t + .5, color=bgcols[bgval]);\n",
    "    ax.axvspan(t + 11.5, t + 12.5, color=bgcols[bgval]);\n",
    "    ax.axvspan(t + 23.5, t + 24.5, color=bgcols[bgval]);\n",
    "plt.axhline(y=0.23446493, color = 'black', linestyle = 'dashed')\n",
    "\n",
    "# d. Plot PPP for the chosen initialization and for all of the desired limitation terms.\n",
    "lim_init = np.zeros(24)\n",
    "for t in np.arange(0,24):\n",
    "    tclim = t \n",
    "    if tclim >= 12:\n",
    "        tclim = tclim - 12\n",
    "plt.plot(np.arange(0,24), Nlim[imno,:], color = '#4daf4a'); \n",
    "plt.scatter(np.arange(0,24), Nlim[imno,:], s= 12, color = '#4daf4a')\n",
    "plt.plot(np.arange(0,24), Llim[imno,:], color = '#dede00'); \n",
    "plt.scatter(np.arange(0,24), Llim[imno,:], s= 12, color = '#dede00')\n",
    "plt.plot(np.arange(0,24), Tlim[imno,:], color = '#e41a1c'); \n",
    "plt.scatter(np.arange(0,24), Tlim[imno,:], s= 12, color = '#e41a1c')\n",
    "\n",
    "plt.xticks(np.arange(0,24), monnam); plt.xlim(-.5,23.5)\n",
    "plt.ylim(0,1)\n",
    "# plt.xlabel('Month'), plt.ylabel('PPP'); \n",
    "\n",
    "# e. Write out plot.\n",
    "# figdir = '/glade/u/home/cpayne/PredictPerfect/Figures/PaperFigs/PPP_lightntemp_052030.png';\n",
    "# plt.savefig(figdir,facecolor='none', dpi = 600);\n",
    "# plt.close()"
   ]
  },
  {
   "cell_type": "markdown",
   "id": "1586b0da-eaaf-4d21-ba01-185a6e845ae5",
   "metadata": {},
   "source": [
    "10. Read in netcdf files generated as part of step 3. These are used to calculate relative limitation terms for N, light, and temperature (relying on eq. 2 presented in the manuscript)."
   ]
  },
  {
   "cell_type": "code",
   "execution_count": null,
   "id": "1712faf5-a8fb-4d4c-9a7c-3f72f67fedec",
   "metadata": {},
   "outputs": [
    {
     "name": "stdout",
     "output_type": "stream",
     "text": [
      "310\n",
      "320\n",
      "330\n",
      "340\n",
      "350\n",
      "360\n"
     ]
    }
   ],
   "source": [
    "climl = xr.open_dataset(\"/glade/u/home/cpayne/PredictPerfect/CESM2_clims/diat_light_lim_Cweight_avg_100m_clim_2010.nc\")\n",
    "climn = xr.open_dataset(\"/glade/u/home/cpayne/PredictPerfect/CESM2_clims/diat_N_lim_Cweight_avg_100m_clim_2010.nc\")\n",
    "climta = xr.open_dataset(\"/glade/u/home/cpayne/PredictPerfect/CESM2_clims/SST_clim_2010.nc\")\n",
    "\n",
    "Tref = 30; q10 = 2.0; PCref_diat = 4.8\n",
    "#calculate tfunc\n",
    "climt = np.zeros([12,384,320])\n",
    "climt[:,:,:] = q10**((climta['clim'][:,:,:] - Tref) / 10.)\n",
    "\n",
    "tlim, llim, nlim, maxlim = np.zeros([12,384,320]), np.zeros([12,384,320]), np.zeros([12,384,320]), np.zeros([12,384,320])\n",
    "for i in np.arange(0,384):\n",
    "    if i > 300 and i%10 == 0:\n",
    "        print(i)\n",
    "    for j in np.arange(0,320):\n",
    "        if np.isnan(areacello_ocn[i,j]) == False:\n",
    "            for t in np.arange(0,12):\n",
    "                tlim[t,i,j] = (1 - climt[t,i,j]) / ((1 - climt[t,i,j]) + (1 - climn['clim'][t,i,j]) + (1 - climl['clim'][t,i,j]))\n",
    "                llim[t,i,j] = (1 - climl['clim'][t,i,j]) / ((1 - climt[t,i,j]) + (1 - climn['clim'][t,i,j]) + (1 - climl['clim'][t,i,j]))\n",
    "                nlim[t,i,j] = (1 - climn['clim'][t,i,j]) / ((1 - climt[t,i,j]) + (1 - climn['clim'][t,i,j]) + (1 - climl['clim'][t,i,j]))\n"
   ]
  },
  {
   "cell_type": "markdown",
   "id": "9b9f7716-a903-4f27-b77c-b73ef9681151",
   "metadata": {},
   "source": [
    "11. Plot Figure 7a / S5a - the relative importance of the different limitation terms during a given initialization month, plotted against a background gradient."
   ]
  },
  {
   "cell_type": "code",
   "execution_count": null,
   "id": "8f7b201e-40dc-43ce-92d6-594632bfd6e9",
   "metadata": {},
   "outputs": [],
   "source": [
    "# a. Select the desired initialization month (0 = January, 1 = March, etc.) and adjust monnam values \n",
    "#    to get the correct months on the x axis.\n",
    "imno = 2\n",
    "monnam = ['M', 'J', 'J', 'A', 'S', 'O', 'N', 'D', 'J', 'F', 'M', 'A', 'M', 'J', 'J', 'A', 'S', 'O', \n",
    "          'N', 'D', 'J', 'F', 'M', 'A']\n",
    "\n",
    "# b. Set up the background gradient colors and the colorbar for that gradient.\n",
    "bgcols = ['#FFFFFF', '#F9F9F9', '#F6F6F6', '#F1F1F1', '#ECECEC', '#E6E6E6', '#E0E0E0', '#D9D9D9', '#D2D2D2',\n",
    "          '#CACACB', '#C3C3C3', '#BBBBBB', '#B3B3B3', '#ABABAB', '#A3A3A3', '#9B9B9B', '#929292', '#8A8A8A',\n",
    "          '#818181', '#797979', '#707070']\n",
    "\n",
    "# c. Initialize the figure and prepare the background gradient. Also set the significance line. This\n",
    "#    involves calculating treal, which uses desired initialization month to go back and calculate the\n",
    "#    correct time to identify in the climatology.\n",
    "l_lim_im = np.zeros(24); t_lim_im = np.zeros(24); n_lim_im = np.zeros(24); \n",
    "fig = plt.figure(figsize=(6,3))\n",
    "ax = fig.subplots()\n",
    "for t in np.arange(0,12):\n",
    "    treal = t + imno*2\n",
    "    if treal > 11:\n",
    "        treal = treal - 12\n",
    "    l_lim_im[t] = llim[treal]; n_lim_im[t] = nlim[treal]; t_lim_im[t] = tlim[treal]; \n",
    "    l_lim_im[t+12] = llim[treal]; n_lim_im[t+12] = nlim[treal]; t_lim_im[t+12] = tlim[treal]; \n",
    "    bgval = int(20 - np.round(clim_arc[treal]/climmax*20, 0))\n",
    "    ax.axvspan(t - .5, t + .5, color=bgcols[bgval]);\n",
    "    ax.axvspan(t + 11.5, t + 12.5, color=bgcols[bgval]);\n",
    "    ax.axvspan(t + 23.5, t + 24.5, color=bgcols[bgval]);\n",
    "\n",
    "# d. Plot the relative limitation terms for light, N, and temperature.\n",
    "plt.plot(np.arange(0,24), l_lim_im, color = '#dede00')\n",
    "plt.plot(np.arange(0,24), t_lim_im, color = '#e41a1c')\n",
    "plt.plot(np.arange(0,24), n_lim_im, color = '#4daf4a')\n",
    "plt.ylim(0,0.53); plt.xlim(-.5,23.5); plt.xticks(np.arange(0,24), monnam)\n",
    "\n",
    "# e. Write the figure out.\n",
    "# figdir = '/glade/u/home/cpayne/PredictPerfect/Figures/PaperFigs/lims_052030.png';\n",
    "# plt.savefig(figdir,facecolor='none', dpi = 600);\n",
    "# plt.close()"
   ]
  },
  {
   "cell_type": "markdown",
   "id": "b512f425-9bb8-4f7c-8667-fe09a7714681",
   "metadata": {},
   "source": [
    "12. Calculate the relative PPP, or the relative importance of each limitation term in controlling the predictability of NPP (equation 3 in manuscript). Then plot this, forming Figure 7c and S5c."
   ]
  },
  {
   "cell_type": "code",
   "execution_count": null,
   "id": "bd761f9a-b306-415a-b94b-bfd0cbcae2f1",
   "metadata": {},
   "outputs": [],
   "source": [
    "# a. Calculate the relative PPP of the different limitation terms.\n",
    "llim_init = np.full([6,34], np.nan); tlim_init = np.full([6,34], np.nan); nlim_init = np.full([6,34], np.nan); \n",
    "for imno in np.arange(0,6):\n",
    "    for t in np.arange(0,24):\n",
    "        treal = t + imno * 2\n",
    "        tclim = treal\n",
    "        if tclim >= 12:\n",
    "            tclim = tclim - 12\n",
    "        if tclim >= 12:\n",
    "            tclim = tclim - 12\n",
    "        llim_init[imno,treal] = Llim[imno,t] * llim[tclim]\n",
    "        tlim_init[imno,treal] = Tlim[imno,t] * tlim[tclim]\n",
    "        nlim_init[imno,treal] = Nlim[imno,t] * nlim[tclim]\n"
   ]
  },
  {
   "cell_type": "code",
   "execution_count": null,
   "id": "6a772c6e-ed9b-426b-8073-9b9133d8a1a0",
   "metadata": {},
   "outputs": [],
   "source": [
    "# b. Select the desired initialization month (0 = January, 1 = March, etc.) and adjust monnam values \n",
    "#    to get the correct months on the x axis.\n",
    "imno = 2\n",
    "monnam = ['M', 'J', 'J', 'A', 'S', 'O', 'N', 'D', 'J', 'F', 'M', 'A', 'M', 'J', 'J', 'A', 'S', 'O', \n",
    "          'N', 'D', 'J', 'F', 'M', 'A']\n",
    "\n",
    "# c. Initialize the figure.\n",
    "lim_val = np.zeros([6,34])\n",
    "fig = plt.figure(figsize=(6,3)) ;ax = fig.subplots()\n",
    "\n",
    "# d. Plot relative PPP for the chosen initialization month. Do this by getting rid of sub-zero values\n",
    "#    and calculate the sum of all limitation terms (this is divided out)\n",
    "for treal in np.arange(0,34):\n",
    "    if llim_init[imno,treal] < 0:\n",
    "        llim_init[imno,treal] = 0\n",
    "    if nlim_init[imno,treal] < 0:\n",
    "        nlim_init[imno,treal] = 0\n",
    "    if tlim_init[imno,treal] < 0:\n",
    "        tlim_init[imno,treal] = 0\n",
    "    lim_val[imno,treal] = tlim_init[imno,treal] + llim_init[imno,treal] + nlim_init[imno,treal]\n",
    "\n",
    "# e. Plot relative PPP\n",
    "    plt.fill_between(np.arange(0,34), tlim_init[init,:]/lim_val[init,:], color = '#e41a1c')\n",
    "    plt.fill_between(np.arange(0,34), tlim_init[init,:]/lim_val[init,:], tlim_init[init,:]/lim_val[init,:] + llim_init[init,:]/lim_val[init,:], color = '#dede00')\n",
    "    plt.fill_between(np.arange(0,34), tlim_init[init,:]/lim_val[init,:] + llim_init[init,:]/lim_val[init,:], 1, color = '#4daf4a')\n",
    "    plt.xticks(np.arange(4,28), monnam); plt.ylim(0,1);\n",
    "    plt.xlim(3.5,27.5); # Adjust xlim to reflect the initialization month\n",
    "\n",
    "# f. Plot lines around the most productive months (dependent on initialization month).\n",
    "plt.axvline(x=6.5, color = 'black', linestyle = 'dashed');\n",
    "plt.axvline(x=15.5, color = 'black', linestyle = 'dashed');\n",
    "plt.axvline(x=18.5, color = 'black', linestyle = 'dashed');\n",
    "#plt.axvline(x=27.5, color = 'black', linestyle = 'dashed');\n",
    "\n",
    "# g. Write out plot.\n",
    "# figdir = '/glade/u/home/cpayne/PredictPerfect/Figures/PaperFigs/ppplims_052030.png';\n",
    "# plt.savefig(figdir,facecolor='none', dpi = 600);\n",
    "# plt.close()"
   ]
  }
 ],
 "metadata": {
  "kernelspec": {
   "display_name": "NPL 2023b",
   "language": "python",
   "name": "npl-2023b"
  },
  "language_info": {
   "codemirror_mode": {
    "name": "ipython",
    "version": 3
   },
   "file_extension": ".py",
   "mimetype": "text/x-python",
   "name": "python",
   "nbconvert_exporter": "python",
   "pygments_lexer": "ipython3",
   "version": "3.10.12"
  }
 },
 "nbformat": 4,
 "nbformat_minor": 5
}
