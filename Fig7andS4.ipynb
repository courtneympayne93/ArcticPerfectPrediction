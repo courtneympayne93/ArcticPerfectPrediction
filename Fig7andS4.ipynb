{
 "cells": [
  {
   "cell_type": "markdown",
   "id": "39e5d0ec-2bc8-4e65-b0d1-6ec162e5241f",
   "metadata": {},
   "source": [
    "This script is used to produce Figure 6 and Figure S4 (change in grid-cell specific PPP for 2010 and 2012) for the Payne et al. paper \"Quantifying the potential predictability of Arctic primary production\". In order to reproduce these figure, the script will need to be run both for 2010 and 2030 data, outputting netcdf files of PPP for each."
   ]
  },
  {
   "cell_type": "markdown",
   "id": "cee99a63-ecec-4477-947e-f7052b57d8af",
   "metadata": {},
   "source": [
    "1. Import Packages"
   ]
  },
  {
   "cell_type": "code",
   "execution_count": 1,
   "id": "7583846f-3333-4c1a-9090-4e862cb968e9",
   "metadata": {},
   "outputs": [],
   "source": [
    "import xarray as xr\n",
    "import numpy as np\n",
    "import numpy.ma as ma\n",
    "import glob\n",
    "import math\n",
    "import cmocean\n",
    "import shapefile as shp\n",
    "import matplotlib.pyplot as plt\n",
    "from  matplotlib.cm import ScalarMappable\n",
    "from  matplotlib.colors import ListedColormap, BoundaryNorm\n",
    "from matplotlib import colors as c\n",
    "import cartopy.crs as ccrs\n",
    "import cartopy.feature as cfeature"
   ]
  },
  {
   "cell_type": "markdown",
   "id": "c2808331-174c-4ea0-8484-e7388396f504",
   "metadata": {},
   "source": [
    "2. Select initialization that we want to calculate PPP for. In Payne et al., May initialization (imno = 2) was chosen."
   ]
  },
  {
   "cell_type": "code",
   "execution_count": 104,
   "id": "cb4c8726-fafe-4314-a689-0e164727abc2",
   "metadata": {},
   "outputs": [],
   "source": [
    "# a. Alter imno to change the initialization month and yr to change the year of analysis.\n",
    "imno = 2\n",
    "yr = '2030' #### Change between 2010 and 2030\n",
    "imstr = ['01', '03', '05', '07', '09', '11']\n",
    "im = imstr[imno]\n",
    "\n",
    "# b. This then sets the start and end month correctly, which you'll need to use to\n",
    "#    read in the correct files.\n",
    "for i in np.arange(0,6,1):\n",
    "    if yr == '2010':\n",
    "        stmon = '2010' + im\n",
    "        if im == imstr[0]:\n",
    "            enmon = '201112'\n",
    "        elif im == imstr[i]:\n",
    "            enmon = '2012' + str(i*2).zfill(2)\n",
    "    else:\n",
    "        stmon = '2030' + im\n",
    "        if im == imstr[0]:\n",
    "            enmon = '203112'\n",
    "        elif im == imstr[i]:\n",
    "            enmon = '2032' + str(i*2).zfill(2)"
   ]
  },
  {
   "cell_type": "markdown",
   "id": "61cf5b33-493d-4a0d-b718-2db055b5c44c",
   "metadata": {},
   "source": [
    "3. Read in NPP files for diatom, diazotroph, and small phytoplankton functional types (photoC_diat_zint, photoC_diaz_zint, and photoC_sp_zint, respectively) from the CESM2-LE for years 2010-2015. NPP is calculated for each model grid cell and across all ensemble members for the years 2010-2012 (dat_climt). Here, we also calculate a climatology and variance for log(NPP) (clim_log and clim_logvar), used to calculate PPP for each grid cell."
   ]
  },
  {
   "cell_type": "code",
   "execution_count": 105,
   "id": "cd3c22a3-cc80-483b-92d6-bef5f026f415",
   "metadata": {},
   "outputs": [
    {
     "name": "stdout",
     "output_type": "stream",
     "text": [
      "done\n"
     ]
    },
    {
     "name": "stderr",
     "output_type": "stream",
     "text": [
      "/glade/u/apps/opt/conda/envs/npl-2023b/lib/python3.10/site-packages/numpy/lib/nanfunctions.py:1872: RuntimeWarning: Degrees of freedom <= 0 for slice.\n",
      "  var = nanvar(a, axis=axis, dtype=dtype, out=out, ddof=ddof,\n",
      "/glade/derecho/scratch/cpayne/tmp/ipykernel_7159/1772014948.py:74: RuntimeWarning: Degrees of freedom <= 0 for slice.\n",
      "  clim_var[t,:,:] = np.nanvar(dat_climt[:,t,:,:], axis = 0)\n",
      "/glade/derecho/scratch/cpayne/tmp/ipykernel_7159/1772014948.py:76: RuntimeWarning: Degrees of freedom <= 0 for slice.\n",
      "  clim_logvar[t,:,:] = np.nanvar(dat_climt_log[:,t,:,:], axis = 0)\n"
     ]
    },
    {
     "name": "stdout",
     "output_type": "stream",
     "text": [
      "done\n",
      "done\n",
      "done\n",
      "done\n",
      "done\n",
      "done\n",
      "done\n",
      "done\n",
      "done\n",
      "done\n",
      "done\n"
     ]
    }
   ],
   "source": [
    "# a. Set the variable (vnam) and whether or not it's an NPP variable (T/F).\n",
    "vnam = ['photoC_diat_zint','photoC_diaz_zint','photoC_sp_zint']#'SST'#'diat_light_lim_Cweight_avg_100m'#['photoC_diat_zint','photoC_diaz_zint','photoC_sp_zint']\n",
    "vdir = 'ocn'\n",
    "vfil = ['.pop.h.photoC_diat_zint.','.pop.h.photoC_diaz_zint.','.pop.h.photoC_sp_zint.']\n",
    "NPP = True#False\n",
    "if vnam[0] == 'photoC_diat_zint': # NPP has to be summed across phytoplankton functional types\n",
    "    vn = 3\n",
    "else:\n",
    "    vn = 1\n",
    "\n",
    "# b. Select variable of interest and locate the files\n",
    "dat_clim = np.full([50, 36, 384, 320], np.nan)\n",
    "for j in np.arange(0,vn):\n",
    "    if NPP == True:\n",
    "        fdir = '/glade/campaign/cgd/cesm/CESM2-LE/'+ vdir + '/proc/tseries/month_1/' + vnam[j] + '/'\n",
    "    else:\n",
    "        fdir = '/glade/campaign/cgd/cesm/CESM2-LE/'+ vdir + '/proc/tseries/month_1/' + vnam + '/'\n",
    "\n",
    "# c. Make an array of nans to store the values from all EMs\n",
    "    i = -1\n",
    "\n",
    "# d. Loop through all the files in the directory, storing data in dat_clim\n",
    "    for file in glob.glob(fdir + \"*smbb*202501*\"): #### Change between '*201001*' and '*202501*'\n",
    "        i = i + 1\n",
    "\n",
    "# e. Open the netcdf and store the variable of interest as dat. Also open lon and lat.\n",
    "        ncfile = xr.open_dataset(file) \n",
    "        if NPP == True:\n",
    "            dat = ncfile[vnam[j]].values\n",
    "        else:\n",
    "            dat = ncfile[vnam].values\n",
    "        lon, lat = ncfile.TLONG.values, ncfile.TLAT.values #if in 'ice', use 'TLON', in 'ocn', use 'TLONG'\n",
    "\n",
    "# f. Interpolate lat and lon values over holes in the arrays\n",
    "        ok = ~np.isnan(lon)\n",
    "        xp = ok.ravel().nonzero()[0]\n",
    "        fp = lon[~np.isnan(lon)]\n",
    "        x  = np.isnan(lon).ravel().nonzero()[0]\n",
    "        lon[np.isnan(lon)] = np.interp(x, xp, fp)\n",
    "\n",
    "        ok = ~np.isnan(lat)\n",
    "        xp = ok.ravel().nonzero()[0]\n",
    "        fp = lat[~np.isnan(lat)]\n",
    "        x  = np.isnan(lat).ravel().nonzero()[0]\n",
    "        lat[np.isnan(lat)] = np.interp(x, xp, fp)\n",
    "\n",
    "# g. Loop through the ensemble members, assigning each to its own column.\n",
    "        if j == 0:\n",
    "            for t in range(0,36): \n",
    "                dat_clim[i,t,:,:] = dat[t+60,:,:]\n",
    "                #### In 2010, this should read dat[t,:,:]. In 2030, it reads dat[t+60,:,:] to skip 2025-2029\n",
    "        else:\n",
    "            for t in range(0,36):\n",
    "                dat_clim[i,t,:,:] = dat[t+60,:,:] + dat_clim[i,t,:,:]\n",
    "                #### In 2010, this should read dat[t,:,:]. In 2030, it reads dat[t+60,:,:] to skip 2025-2029\n",
    "\n",
    "# h. Sum over EMs, then divide by 50 to get a climatology for each grid cell\n",
    "dat_climt = np.full([150, 12, 384, 320], np.nan)\n",
    "dat_climt_log = np.full([150, 12, 384, 320], np.nan)\n",
    "clim = np.full([12, 384, 320], np.nan);\n",
    "clim_sd = np.full([12, 384, 320], np.nan)\n",
    "clim_var = np.full([12, 384, 320], np.nan)\n",
    "clim_log = np.full([12, 384, 320], np.nan)\n",
    "clim_logvar = np.full([12, 384, 320], np.nan)\n",
    "   \n",
    "for t in range(0,12):\n",
    "    dat_climt[0:50,t,:,:] = dat_clim[:,t,:,:]\n",
    "    print('done')\n",
    "    dat_climt[50:100,t,:,:] = dat_clim[:,t + 12,:,:]\n",
    "    dat_climt[100:150,t,:,:] = dat_clim[:,t + 24,:,:]\n",
    "    dat_climt_log[:,t,:,:] = np.log(dat_climt[:,t,:,:] + 0.000000000000001)\n",
    "    clim[t,:,:] = (np.nansum(dat_climt[:,t,:,:], axis = 0)) / 150\n",
    "    clim_sd[t,:,:] = np.nanstd(dat_climt[:,t,:,:], axis = 0)\n",
    "    clim_var[t,:,:] = np.nanvar(dat_climt[:,t,:,:], axis = 0)\n",
    "    clim_log[t,:,:] = (np.nansum(dat_climt_log[:,t,:,:], axis = 0)) / 150\n",
    "    clim_logvar[t,:,:] = np.nanvar(dat_climt_log[:,t,:,:], axis = 0)\n",
    "    \n",
    "    for i in np.arange(0,384):\n",
    "        for j in np.arange(0,320):\n",
    "            if clim_var[t,i,j] < .000001:\n",
    "                clim_var[t,i,j] = np.nan\n",
    "            if clim_logvar[t,i,j] < .000001:\n",
    "                clim_logvar[t,i,j] = np.nan\n"
   ]
  },
  {
   "cell_type": "markdown",
   "id": "bd53f517-cc49-47bf-b5e2-cbf2d0a7d9bb",
   "metadata": {},
   "source": [
    "4. Calculate the area of each grid cell in the Arctic (here, >50°N). This variable is used to scale NPP by area and also to exclude sub-Arctic grid cells."
   ]
  },
  {
   "cell_type": "code",
   "execution_count": 4,
   "id": "9cdfe185-55d8-42b5-ad40-dfa93047f3c6",
   "metadata": {},
   "outputs": [
    {
     "name": "stderr",
     "output_type": "stream",
     "text": [
      "/glade/u/apps/opt/conda/envs/npl-2023b/lib/python3.10/site-packages/xarray/conventions.py:431: SerializationWarning: variable 'areacello' has multiple fill values {1e+20, 1e+20}, decoding all values to NaN.\n",
      "  new_vars[k] = decode_cf_variable(\n"
     ]
    }
   ],
   "source": [
    "# a. Read in the areacello file and use this to weight each variable by the area of the grid cell.\n",
    "acdir = '/glade/collections/cmip/CMIP6/CMIP/NCAR/CESM2/historical/r1i1p1f1/Ofx/areacello/gn/files/d20190308/areacello_Ofx_CESM2_historical_r1i1p1f1_gn.nc'\n",
    "acfil = xr.open_dataset(acdir)\n",
    "areacello = acfil['areacello'].values # tarea <- ocean files\n",
    "areacello_ocn = np.full([384,320], np.nan)\n",
    "for i in np.arange(0,384):\n",
    "    for j in np.arange(0,320):\n",
    "        if np.isnan(dat_climt[0,2,i,j]) == False and lat[i,j] > 50:\n",
    "            areacello_ocn[i,j] = areacello[i,j]\n"
   ]
  },
  {
   "cell_type": "markdown",
   "id": "d70663ae-7190-4470-af36-d2581049a830",
   "metadata": {},
   "source": [
    "5. Read in monthly NPP for the two-year perfect model experiments. These experiments were initialized every other month (6x per year) from five different CESM2-LE ensemble members and have 15 ensemble members in each set. Consequently, the dimensions of pmeall are initialization, initial ensemble member, ensemble member, time, longitude, latitude."
   ]
  },
  {
   "cell_type": "code",
   "execution_count": 106,
   "id": "3fcaef99-e47b-47a8-9cb9-b750068d8c11",
   "metadata": {},
   "outputs": [
    {
     "name": "stderr",
     "output_type": "stream",
     "text": [
      "/glade/derecho/scratch/cpayne/tmp/ipykernel_7159/1282205685.py:43: RuntimeWarning: Degrees of freedom <= 0 for slice.\n",
      "  pme_var[:,:,:,:] = np.nanvar(pmeall_log[:,:,:,:,:], axis = 1)\n",
      "/glade/derecho/scratch/cpayne/tmp/ipykernel_7159/1282205685.py:44: RuntimeWarning: Mean of empty slice\n",
      "  pme_mean[:,:,:,:] = np.nanmean(pmeall_log[:,:,:,:,:], axis = 1)\n"
     ]
    }
   ],
   "source": [
    "# a. Initialize arrays\n",
    "pmeall = np.full([5,15,24,384,320], np.nan)\n",
    "pmeall_log = np.full([5,15,24,384,320], np.nan)\n",
    "pme_var = np.full([5,24,384,320], np.nan)\n",
    "pme_mean = np.full([5,24,384,320], np.nan)\n",
    "\n",
    "# b. Set up big loop for opening arrays and calculating variance\n",
    "i = -1\n",
    "for init in np.arange(0,5):\n",
    "    if init == 0:\n",
    "        l = ''\n",
    "    else:\n",
    "        i = i + 1\n",
    "        let = ['b', 'c', 'd', 'e']\n",
    "        l = let[i]\n",
    "# c. Loop through the ensemble members. Open the appropriate file and add it to the array\n",
    "    for ens in np.arange(0,15):\n",
    "        i1 = ens + 1\n",
    "        ### To switch between 2010 and 2030, change the first part of pmedir to either\n",
    "        #/glade/campaign/cgd/ppc/mholland/predict_cesm2/b.e21.BHIST_CESM2_2010_      or\n",
    "        #/glade/campaign/cgd/ppc/mholland/predict_cesm2_2030/b.e21.BSSP370smbb_CESM2_2030_\n",
    "        pmedir = '/glade/campaign/cgd/ppc/mholland/predict_cesm2_2030/b.e21.BSSP370smbb_CESM2_2030_' + im + '_ens00'+ str(i1) + str(l) +'/' + vdir + '/proc/tseries/month_1/'\n",
    "        if NPP == True: # if NPP is the variable, loop through all phytoplankton groups and sum them\n",
    "            for varloop in np.arange(0,len(vdir)):\n",
    "                ### To switch between 2010 and 2030, change the first part of the file name (following pmedir) to\n",
    "                # 'b.e21.BHIST_CESM2_2010_' or 'b.e21.BSSP370smbb_CESM2_2030_'.\n",
    "                pmef = pmedir + 'b.e21.BSSP370smbb_CESM2_2030_' + im + '_ens00' + str(i1) + str(l) + vfil[varloop] + stmon + '-' + enmon + '.nc'\n",
    "                pme = xr.open_dataset(pmef)\n",
    "                if varloop == 0:\n",
    "                    pmeall[init,ens,:,:,:] = pme[vnam[varloop]][:,:,:]\n",
    "                else:\n",
    "                    pmeall[init,ens,:,:,:] = pmeall[init,ens,:,:,:] + pme[vnam[varloop]][:,:,:]\n",
    "            vname = 'photoC_sp_zint'\n",
    "        else:\n",
    "            ### To switch between 2010 and 2030, change the first part of the file name (following pmedir) to\n",
    "            # 'b.e21.BHIST_CESM2_2010_' or 'b.e21.BSSP370smbb_CESM2_2030_'.\n",
    "            pmef = pmedir + 'b.e21.BSSP370smbb_CESM2_2030_' + im + '_ens00' + str(i1) + str(l) + vfil + stmon + '-' + enmon + '.nc'\n",
    "            pme = xr.open_dataset(pmef)\n",
    "            pmeall[init,ens,:,:,:] = pme[vnam][:,:,:]\n",
    "            vname = vnam\n",
    "# d. Calculate variability across the perfect model ensemble members\n",
    "pmeall_log[:,:,:,:,:] = np.log(pmeall[:,:,:,:,:] + 0.000000000000001)\n",
    "pme_var[:,:,:,:] = np.nanvar(pmeall_log[:,:,:,:,:], axis = 1)\n",
    "pme_mean[:,:,:,:] = np.nanmean(pmeall_log[:,:,:,:,:], axis = 1)\n"
   ]
  },
  {
   "cell_type": "markdown",
   "id": "04d60d03-6aae-4533-befd-14611b427aea",
   "metadata": {},
   "source": [
    "6. Calculate PPP across the Arctic for the two years of each initialization. PPP is calculated using log(NPP), and these equations are provided by Campbell (1995). Variance for the perfect model experiments is calculated as a mean across the five different ensemble members the forecast simulations were initialized from."
   ]
  },
  {
   "cell_type": "code",
   "execution_count": 107,
   "id": "bcd64bad-83b7-413d-ab5d-df1808067a8f",
   "metadata": {},
   "outputs": [
    {
     "name": "stdout",
     "output_type": "stream",
     "text": [
      "310\n",
      "320\n",
      "330\n",
      "340\n",
      "350\n",
      "360\n",
      "370\n",
      "380\n"
     ]
    }
   ],
   "source": [
    "# a. Mask out values outside of the \"Arctic Circle\", defined here as < 50°N, and initialize arrays\n",
    "arcirc = ma.masked_array(pme[vname][0,:,:], pme[\"TLAT\"][:,:] < 50)\n",
    "PPP_mean = np.full([24,384,320],np.nan)\n",
    "var_clim = np.full([12,384,320],np.nan); var_pme = np.full([24,384,320],np.nan)\n",
    "for i in np.arange(0,384):\n",
    "    if i > 300 and i%10 == 0:\n",
    "        print(i)\n",
    "    for j in np.arange(0,320):\n",
    "\n",
    "# b. If we are in the \"Arctic Circle\" and there are values for the perfect model experiments, calculate PPP.\n",
    "        if (arcirc[i,j] >= 0 & np.isnan(pme_var[0,5,i,j]) == False):\n",
    "            for t in np.arange(0,12):\n",
    "\n",
    "# c. Calculate the climatology \"month\" (tclim)\n",
    "                if (t + imno*2) < 12:\n",
    "                    tclim = t + imno * 2\n",
    "                else:\n",
    "                    tclim = t + imno * 2 - 12\n",
    "                    \n",
    "# d. Calculate the mean and variance for the climatology\n",
    "                meanlog_clim = clim_log[tclim,i,j]\n",
    "                varlog_clim = clim_logvar[tclim,i,j]\n",
    "                var_clim[t,i,j] = (math.exp(varlog_clim) - 1) * (math.exp(2* meanlog_clim + varlog_clim))\n",
    "\n",
    "# e. Calculate the mean and variance for the perfect model experiments for t, then calculate PPP.\n",
    "                meanlog_pme = np.nanmean(pme_mean[:,t,i,j])\n",
    "                varlog_pme = np.nanmean(pme_var[:,t,i,j])\n",
    "                var_pme[t,i,j] = (math.exp(varlog_pme) - 1) * (math.exp(2* meanlog_pme + varlog_pme))\n",
    "                PPP_mean[t,i,j] = 1 - (varlog_pme / varlog_clim)\n",
    "                \n",
    "# f. Calculate the mean and variance for the perfect model experiments for t + 12, then calculate PPP.\n",
    "                meanlog_pme = np.nanmean(pme_mean[:,t + 12,i,j])\n",
    "                varlog_pme = np.nanmean(pme_var[:,t + 12,i,j])\n",
    "                var_pme[t+12,i,j] = (math.exp(varlog_pme) - 1) * (math.exp(2* meanlog_pme + varlog_pme))\n",
    "                PPP_mean[t+12,i,j] = 1 - (varlog_pme / varlog_clim)\n"
   ]
  },
  {
   "cell_type": "code",
   "execution_count": 108,
   "id": "a6fa7363-22c2-44bd-a93b-df6350f52e7b",
   "metadata": {},
   "outputs": [],
   "source": [
    "var_pme_2030 = var_pme\n",
    "var_clim_2030 = var_clim"
   ]
  },
  {
   "cell_type": "markdown",
   "id": "e5d706d3-ab18-46cc-8baa-60d66e842bff",
   "metadata": {},
   "source": [
    "7. Write out PPP values as netcdf. Then read these back in for the desired years and initialization months. Repeat steps 1-7a as often as desired, then continue on to 7b to plot figures."
   ]
  },
  {
   "cell_type": "code",
   "execution_count": null,
   "id": "0bc89df1-b2dc-492e-b4e1-993bcaf8faa9",
   "metadata": {},
   "outputs": [],
   "source": [
    "# a. Write out PPP values as a netcdf.\n",
    "cdir = \"/glade/u/home/cpayne/PredictPerfect/Output/PPPmean_\" + vnnam + im + yr + \".nc\"\n",
    "ds = xr.Dataset(\n",
    "    data_vars=dict(\n",
    "        PPP=([\"time\", \"lat\", \"lon\"], PPP_mean),\n",
    "    ),\n",
    "    coords=dict(\n",
    "        time=(pme.time.values),\n",
    "        TLAT=([\"lat\", \"lon\"], lat),\n",
    "        TLON=([\"lat\", \"lon\"], lon),\n",
    "    ),\n",
    ")\n",
    "ds.to_netcdf(path = cdir, mode = 'w')"
   ]
  },
  {
   "cell_type": "code",
   "execution_count": 17,
   "id": "4232d006-4891-4a14-8c31-e7cd48b9fad6",
   "metadata": {},
   "outputs": [],
   "source": [
    "# b. Read in netcdf files of PPP for different years and initialization months.\n",
    "PPP012010 = xr.open_dataset(\"/glade/u/home/cpayne/Projects/PredictPerfect/Output/PPPmean_NPP012010.nc\")\n",
    "PPP012030 = xr.open_dataset(\"/glade/u/home/cpayne/Projects/PredictPerfect/Output/PPPmean_NPP012030.nc\")\n",
    "PPP032010 = xr.open_dataset(\"/glade/u/home/cpayne/Projects/PredictPerfect/Output/PPPmean_NPP032010.nc\")\n",
    "PPP032030 = xr.open_dataset(\"/glade/u/home/cpayne/Projects/PredictPerfect/Output/PPPmean_NPP032030.nc\")\n",
    "PPP052010 = xr.open_dataset(\"/glade/u/home/cpayne/Projects/PredictPerfect/Output/PPPmean_NPP052010.nc\")\n",
    "PPP052030 = xr.open_dataset(\"/glade/u/home/cpayne/Projects/PredictPerfect/Output/PPPmean_NPP052030.nc\")\n",
    "PPP072010 = xr.open_dataset(\"/glade/u/home/cpayne/Projects/PredictPerfect/Output/PPPmean_NPP072010.nc\")\n",
    "PPP072030 = xr.open_dataset(\"/glade/u/home/cpayne/Projects/PredictPerfect/Output/PPPmean_NPP072030.nc\")\n",
    "PPP092010 = xr.open_dataset(\"/glade/u/home/cpayne/Projects/PredictPerfect/Output/PPPmean_NPP092010.nc\")\n",
    "PPP092030 = xr.open_dataset(\"/glade/u/home/cpayne/Projects/PredictPerfect/Output/PPPmean_NPP092030.nc\")\n",
    "PPP112010 = xr.open_dataset(\"/glade/u/home/cpayne/Projects/PredictPerfect/Output/PPPmean_NPP112010.nc\")\n",
    "PPP112030 = xr.open_dataset(\"/glade/u/home/cpayne/Projects/PredictPerfect/Output/PPPmean_NPP112030.nc\")\n"
   ]
  },
  {
   "cell_type": "code",
   "execution_count": 18,
   "id": "349b2c00-6c66-4c26-87ab-22b882faea6f",
   "metadata": {},
   "outputs": [
    {
     "name": "stdout",
     "output_type": "stream",
     "text": [
      "300\n",
      "320\n",
      "340\n",
      "360\n",
      "380\n"
     ]
    }
   ],
   "source": [
    "for i in np.arange(0,384):\n",
    "    if i > 299 and i%20 == 0:\n",
    "        print(i)\n",
    "    for j in np.arange(0,320):\n",
    "        if np.isnan(areacello_ocn[i,j]) == False:\n",
    "            for t in np.arange(0,24):\n",
    "                if PPP012010['PPP'][t,i,j] < 0:\n",
    "                    PPP012010['PPP'][t,i,j] = np.nan\n",
    "                if PPP012030['PPP'][t,i,j] < 0:\n",
    "                    PPP012030['PPP'][t,i,j] = np.nan\n",
    "                if PPP032010['PPP'][t,i,j] < 0:\n",
    "                    PPP032010['PPP'][t,i,j] = np.nan\n",
    "                if PPP032030['PPP'][t,i,j] < 0:\n",
    "                    PPP032030['PPP'][t,i,j] = np.nan\n",
    "                if PPP052010['PPP'][t,i,j] < 0:\n",
    "                    PPP052010['PPP'][t,i,j] = np.nan\n",
    "                if PPP052030['PPP'][t,i,j] < 0:\n",
    "                    PPP052030['PPP'][t,i,j] = np.nan\n",
    "                if PPP072010['PPP'][t,i,j] < 0:\n",
    "                    PPP072010['PPP'][t,i,j] = np.nan\n",
    "                if PPP072030['PPP'][t,i,j] < 0:\n",
    "                    PPP072030['PPP'][t,i,j] = np.nan\n",
    "                if PPP092010['PPP'][t,i,j] < 0:\n",
    "                    PPP092010['PPP'][t,i,j] = np.nan\n",
    "                if PPP092030['PPP'][t,i,j] < 0:\n",
    "                    PPP092030['PPP'][t,i,j] = np.nan\n",
    "                if PPP112010['PPP'][t,i,j] < 0:\n",
    "                    PPP112010['PPP'][t,i,j] = np.nan\n",
    "                if PPP112030['PPP'][t,i,j] < 0:\n",
    "                    PPP112030['PPP'][t,i,j] = np.nan"
   ]
  },
  {
   "cell_type": "markdown",
   "id": "34153a77-4b0a-4682-96b4-bc58ce26beac",
   "metadata": {},
   "source": [
    "8. Plot change in PPP between the two netcdf PPP files. Change the chosen t value to look how this changes over different months."
   ]
  },
  {
   "cell_type": "code",
   "execution_count": 14,
   "id": "8b6c1636-0cca-4296-bbd1-e5cb4920d8f3",
   "metadata": {},
   "outputs": [],
   "source": [
    "# a. Read in a shapefile of the LME lines (sf) and LME number for each grid cell.\n",
    "sf = shp.Reader(\"/glade/work/kristenk/fish-offline/fish-offline/notebooks/data/LMEs66_Offshore\")\n"
   ]
  },
  {
   "cell_type": "code",
   "execution_count": null,
   "id": "d0b209df-8483-4b44-88e0-a52ae3689cf5",
   "metadata": {},
   "outputs": [],
   "source": [
    "# b. Change t to change what time we are looking at. Plot PPP changes between 2010 and 2030\n",
    "t = 13\n",
    "plt.figure(figsize=(4,3)) #plt.figure(figsize=(2.5,2.5))\n",
    "ax = plt.axes(projection=ccrs.NorthPolarStereo()); \n",
    "ax.set_extent([-180, 180, 49, 90], crs = ccrs.PlateCarree());\n",
    "clim_ac = ma.masked_array(PPP052010[\"PPP\"][t,:,:], PPP052010[\"TLAT\"] < 50)\n",
    "pc = ax.pcolormesh(ncfile[\"TLONG\"], ncfile[\"TLAT\"], clim_ac,\n",
    "                    transform=ccrs.PlateCarree(), vmin = -1, vmax = 1, cmap = 'cmo.balance');\n",
    "ax.coastlines();  ax.add_feature(cfeature.LAND); plt.colorbar(pc);\n",
    "\n",
    "# c. Plot the lines of the LMEs.\n",
    "for shape in sf.shapeRecords():\n",
    "    x = [i[0] for i in shape.shape.points[:]]\n",
    "    y = [i[1] for i in shape.shape.points[:]]\n",
    "    ax.plot(x,y,transform=ccrs.PlateCarree(),color='black',linewidth=1)\n",
    "\n",
    "# d. Write out that figure\n",
    "# figdir = '/glade/u/home/cpayne/Projects/PredictPerfect/Figures/PaperFigs/deltaPPPmean' + str(mt + 16) + '.png';\n",
    "plt.savefig(figdir,facecolor='none', dpi = 600);\n",
    "# plt.close()"
   ]
  }
 ],
 "metadata": {
  "kernelspec": {
   "display_name": "NPL 2023b",
   "language": "python",
   "name": "npl-2023b"
  },
  "language_info": {
   "codemirror_mode": {
    "name": "ipython",
    "version": 3
   },
   "file_extension": ".py",
   "mimetype": "text/x-python",
   "name": "python",
   "nbconvert_exporter": "python",
   "pygments_lexer": "ipython3",
   "version": "3.10.12"
  }
 },
 "nbformat": 4,
 "nbformat_minor": 5
}
