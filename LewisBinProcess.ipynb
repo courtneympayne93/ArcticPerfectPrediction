{
 "cells": [
  {
   "cell_type": "markdown",
   "id": "a6d09dd6-9212-494a-8e5b-4ec5051e1a64",
   "metadata": {},
   "source": [
    "This script takes daily NPP binary files for 2010-2012 (using the Lewis et al. 2020 Arctic algorithm) and converts them into monthly sums for the Arctic (>66.5°N). This script was run on Kevin Arrigo's albedo server and relies on unzipped daily NPP binary files that I uploaded to data2."
   ]
  },
  {
   "cell_type": "markdown",
   "id": "408e154a-ee53-40e9-975f-a9d262ea4d00",
   "metadata": {},
   "source": [
    "1. Import Packages"
   ]
  },
  {
   "cell_type": "code",
   "execution_count": null,
   "id": "be23a6a3-3b49-4a81-b08f-9ed3f757d49d",
   "metadata": {},
   "outputs": [],
   "source": [
    "import numpy as np\n",
    "#from pyhdf.SD import SD, SDC\n",
    "import numpy.ma as ma\n",
    "import matplotlib.pyplot as plt\n",
    "import cartopy.crs as ccrs\n",
    "import cartopy.feature as cfeature\n",
    "import glob\n",
    "import xarray as xr"
   ]
  },
  {
   "cell_type": "code",
   "execution_count": null,
   "id": "a4f357e7-5759-4033-af63-4c709b08e6f1",
   "metadata": {},
   "outputs": [],
   "source": [
    "lew=xr.open_dataset('/home/cmpayne/Chl_8d/A2010_arctic.L3m_8D_CHL.AOReg.emp.nc')\n",
    "lat = lew['latitude'].values\n",
    "lon = lew['longitude'].values"
   ]
  },
  {
   "cell_type": "code",
   "execution_count": null,
   "id": "b23ab151-7e9b-4caf-b2ea-f78c1ec07e5c",
   "metadata": {},
   "outputs": [],
   "source": [
    "npp_daily = np.zeros([365,2325,2014])\n",
    "yr = 2020\n",
    "fdir = '/scratch/cmpayne/NPP_bin/'\n",
    "for d in np.arange(1,366):\n",
    "    dct = d - 1\n",
    "    dd = str(d).zfill(3)\n",
    "    #varnam = str(yr) + dd + '_arctic_50N_Reg_v3_corr2_S_R2018.0_reanal1_d4_c2c90p0_prod.bin'\n",
    "    # if d < 209:\n",
    "    #    varnam = str(yr) + dd + '_arctic_50N_Reg_v3_A_R2018.0_reanal1_d4_c2c90p0_prod.bin'\n",
    "    # else:\n",
    "    varnam = str(yr) + dd + '_arctic_50N_Reg_v3_A_R2018.1_reanal1_d4_c2c90p0_prod.bin'\n",
    "    f = np.fromfile(fdir + varnam, dtype=np.float32)\n",
    "    f[f == -99] = np.nan\n",
    "    npp_daily[dct,:,:] = np.reshape(f, [2325, 2014])\n",
    "\n"
   ]
  },
  {
   "cell_type": "code",
   "execution_count": null,
   "id": "fc24e9a1-f5c5-4706-ad4d-9c47c137bc5b",
   "metadata": {},
   "outputs": [],
   "source": [
    "chl_daily = np.zeros([365,2325,2014])\n",
    "yr = 2003\n",
    "fdir = '/data4/gertvd/PROD_MODEL/anyprod/input/chl'\n",
    "for d in np.arange(1,366):\n",
    "    dct = d - 1\n",
    "    dd = str(d).zfill(3)\n",
    "    #varnam = str(yr) + dd + '_arctic_50N_Reg_v3_corr2_S_R2018.0_reanal1_d4_c2c90p0_prod.bin'\n",
    "    # if d < 209:\n",
    "    #    varnam = str(yr) + dd + '_arctic_50N_Reg_v3_A_R2018.0_reanal1_d4_c2c90p0_prod.bin'\n",
    "    # else:\n",
    "    varnam = str(yr) + dd + '_arctic_50N_Reg_v3_A_R2018.1_reanal1_d4_c2c90p0_prod.bin'\n",
    "    f = np.fromfile(fdir + varnam, dtype=np.float32)\n",
    "    f[f == -99] = np.nan\n",
    "    npp_daily[dct,:,:] = np.reshape(f, [2325, 2014])\n"
   ]
  },
  {
   "cell_type": "code",
   "execution_count": null,
   "id": "03ffb4e8-6af1-4f7c-9bdc-1adb5760ec4e",
   "metadata": {},
   "outputs": [],
   "source": [
    "cdir = \"/scratch/cmpayne/Arc_NPP_nc/\" + str(yr) + \"_50N_Reg_v3_A_R201801.nc\"\n",
    "ds = xr.Dataset(\n",
    "    data_vars=dict(\n",
    "        NPP=([\"time\", \"lat\", \"lon\"], npp_daily),\n",
    "    ),\n",
    "    coords=dict(\n",
    "        LON=([\"lat\", \"lon\"], lon),\n",
    "        LAT=([\"lat\", \"lon\"], lat),\n",
    "        DOY=np.arange(1,366)\n",
    "    ),\n",
    ")\n",
    "ds.to_netcdf(path = cdir, mode = 'w')"
   ]
  },
  {
   "cell_type": "code",
   "execution_count": null,
   "id": "b5939db0-3141-4730-8918-14dcf9d86bd9",
   "metadata": {},
   "outputs": [],
   "source": [
    "# npp1998 = xr.open_dataset('/home/cmpayne/Arc_NPP_nc/1998_50N_Reg_v3_corr2_S_R20180.nc')"
   ]
  },
  {
   "cell_type": "code",
   "execution_count": null,
   "id": "f8ccd45e-a20a-4bf2-a9f6-785adcc07e65",
   "metadata": {},
   "outputs": [],
   "source": [
    "# npp_arc = np.zeros([3,365,2325,2014])\n",
    "# for i in np.arange(0,2325):\n",
    "#     for j in np.arange(0,2014):\n",
    "#         if lat[i,j] > 66.5:\n",
    "#             npp_arc[:,:,i,j] = npp_daily[:,:,i,j]"
   ]
  },
  {
   "cell_type": "code",
   "execution_count": null,
   "id": "4b164fd5-16ad-496b-9625-3af862d2f5a9",
   "metadata": {},
   "outputs": [],
   "source": [
    "# dpm = [31, 28, 31, 30, 31, 30, 31, 31, 30, 31, 30, 31]\n",
    "# npp_arcmon = np.zeros([3,12,2325, 2014])\n",
    "# ct = -1\n",
    "# for mon in np.arange(0,12):\n",
    "#     for d in np.arange(0,dpm[mon]):\n",
    "#         ct = ct + 1\n",
    "#         npp_arcmon[:,mon,:,:] = npp_arc[:,ct,:,:] + npp_arcmon[:,mon,:,:]"
   ]
  },
  {
   "cell_type": "code",
   "execution_count": null,
   "id": "b99b9a70-122d-47a1-a6c7-94ece5fcd27b",
   "metadata": {},
   "outputs": [],
   "source": [
    "# npp_sums = np.nansum(np.nansum(npp_arcmon[:,:,:,:], axis = 2), axis = 2)*16 "
   ]
  },
  {
   "cell_type": "code",
   "execution_count": null,
   "id": "dfd51c25-152d-47bb-b4dd-7be7b7b343d6",
   "metadata": {},
   "outputs": [],
   "source": [
    "# dir = open(\"/home/cmpayne/npp_sums.txt\", \"w\")\n",
    "# for row in npp_sums:\n",
    "#     np.savetxt(dir, row)\n",
    "# dir.close()"
   ]
  }
 ],
 "metadata": {
  "kernelspec": {
   "display_name": "Python 3 (ipykernel)",
   "language": "python",
   "name": "python3"
  },
  "language_info": {
   "codemirror_mode": {
    "name": "ipython",
    "version": 3
   },
   "file_extension": ".py",
   "mimetype": "text/x-python",
   "name": "python",
   "nbconvert_exporter": "python",
   "pygments_lexer": "ipython3",
   "version": "3.10.13"
  }
 },
 "nbformat": 4,
 "nbformat_minor": 5
}
